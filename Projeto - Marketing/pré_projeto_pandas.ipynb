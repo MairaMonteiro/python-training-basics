{
  "nbformat": 4,
  "nbformat_minor": 0,
  "metadata": {
    "colab": {
      "name": "pré-projeto-pandas.ipynb",
      "provenance": [],
      "collapsed_sections": []
    },
    "kernelspec": {
      "name": "python3",
      "display_name": "Python 3"
    },
    "language_info": {
      "name": "python"
    }
  },
  "cells": [
    {
      "cell_type": "markdown",
      "metadata": {
        "id": "rrgWRbAzfJRd"
      },
      "source": [
        "Instalação e importação de bibliotecas pandas e pandera para tratamento dos dados"
      ]
    },
    {
      "cell_type": "code",
      "metadata": {
        "id": "6NFn1TlWb9td"
      },
      "source": [
        "pip install pandera"
      ],
      "execution_count": null,
      "outputs": []
    },
    {
      "cell_type": "code",
      "metadata": {
        "id": "JIsO40kXh5W2"
      },
      "source": [
        "import pandas as pd\n",
        "import pandera as pa"
      ],
      "execution_count": null,
      "outputs": []
    },
    {
      "cell_type": "markdown",
      "metadata": {
        "id": "BSiFgI1RcseA"
      },
      "source": [
        "\n",
        "\n",
        "---\n",
        "Importar dataset para o colab\n"
      ]
    },
    {
      "cell_type": "code",
      "metadata": {
        "id": "0ICFPsvL7cAa"
      },
      "source": [
        "df = pd.read_csv('/content/drive/MyDrive/Colab Notebooks/pre-projeto-analise de dados/marketing_campaign.csv', sep=',')\n",
        "df"
      ],
      "execution_count": null,
      "outputs": []
    },
    {
      "cell_type": "markdown",
      "metadata": {
        "id": "mL4hdT50bMHp"
      },
      "source": [
        "\n",
        "\n",
        "---\n",
        "Identificar quantas linhas e colunas no data set\n"
      ]
    },
    {
      "cell_type": "code",
      "metadata": {
        "id": "bFERi-JQSlr4",
        "colab": {
          "base_uri": "https://localhost:8080/"
        },
        "outputId": "734ce626-41ae-4089-804d-9c83457e0d2f"
      },
      "source": [
        "df.shape"
      ],
      "execution_count": null,
      "outputs": [
        {
          "output_type": "execute_result",
          "data": {
            "text/plain": [
              "(2240, 29)"
            ]
          },
          "metadata": {},
          "execution_count": 27
        }
      ]
    },
    {
      "cell_type": "markdown",
      "metadata": {
        "id": "fpfXiXPibG_y"
      },
      "source": [
        "\n",
        "\n",
        "---\n",
        "Identificar os tipos de dados presentes em cada coluna no dataset\n",
        "\n"
      ]
    },
    {
      "cell_type": "code",
      "metadata": {
        "id": "yY2GJXPq86kS",
        "colab": {
          "base_uri": "https://localhost:8080/"
        },
        "outputId": "edfa5ea1-d428-4570-e7fd-f8b5f27933af"
      },
      "source": [
        "df.dtypes"
      ],
      "execution_count": null,
      "outputs": [
        {
          "output_type": "execute_result",
          "data": {
            "text/plain": [
              "ID                       int64\n",
              "Year_Birth               int64\n",
              "Education               object\n",
              "Marital_Status          object\n",
              "Income                 float64\n",
              "Kidhome                  int64\n",
              "Teenhome                 int64\n",
              "Dt_Customer             object\n",
              "Recency                  int64\n",
              "MntWines                 int64\n",
              "MntFruits                int64\n",
              "MntMeatProducts          int64\n",
              "MntFishProducts          int64\n",
              "MntSweetProducts         int64\n",
              "MntGoldProds             int64\n",
              "NumDealsPurchases        int64\n",
              "NumWebPurchases          int64\n",
              "NumCatalogPurchases      int64\n",
              "NumStorePurchases        int64\n",
              "NumWebVisitsMonth        int64\n",
              "AcceptedCmp3             int64\n",
              "AcceptedCmp4             int64\n",
              "AcceptedCmp5             int64\n",
              "AcceptedCmp1             int64\n",
              "AcceptedCmp2             int64\n",
              "Complain                 int64\n",
              "Z_CostContact            int64\n",
              "Z_Revenue                int64\n",
              "Response                 int64\n",
              "dtype: object"
            ]
          },
          "metadata": {},
          "execution_count": 28
        }
      ]
    },
    {
      "cell_type": "markdown",
      "metadata": {
        "id": "pZDvp85_aFRC"
      },
      "source": [
        "---\n",
        "Traduzir e Renomear as colunas para o pourtuguês\n"
      ]
    },
    {
      "cell_type": "code",
      "metadata": {
        "id": "6eOxZBkDX8qK"
      },
      "source": [
        "df.rename(columns={\n",
        "'Year_Birth':'AnoNascimento', \n",
        "'Education':'Educacao', \n",
        "'Marital_Status':'EstadoCivil', \n",
        "'Income':'Renda', \n",
        "'Kidhome':'CriancaNaCasa', \n",
        "'Teenhome':'AdolescenteNaCasa', \n",
        "'Dt_Customer':'DtInscricao', \n",
        "'Recency':'UltimaCompra', \n",
        "'MntWines':'TotalVinho', \n",
        "'MntFruits':'TotalFrutas', \n",
        "'MntMeatProducts':'TotalProdutosCarnes', \n",
        "'MntFishProducts':'TotalProdutosPeixe', \n",
        "'MntSweetProducts':'TotalProdutosDoces', \n",
        "'MntGoldProds':'TotaltProdutosOuro', \n",
        "'NumDealsPurchases':'QtComprasDesconto', \n",
        "'NumWebPurchases':'QtComprasWeb', \n",
        "'NumCatalogsPurchases':'QtComprasCatalogo', \n",
        "'NumStorePurchases':'QtComprasLoja', \n",
        "'NumWebVisitsMonth':'QtComprasWebMes', \n",
        "'AcceptedCmp3':'AceitouCamapanha3', \n",
        "'AcceptedCmp4':'AceitouCamapanha4', \n",
        "'AcceptedCmp5':'AceitouCamapanha5', \n",
        "'AcceptedCmp1':'AceitouCamapanha1', \n",
        "'AcceptedCmp2':'AceitouCamapanha2', \n",
        "'Complain':'Reclamacao', \n",
        "'Z_CostContact':'CustoContato', \n",
        "'Z_Revenue':'ReceitaContato', \n",
        "'Response':'Resposta'}\n",
        ", inplace=True)\n",
        "\n",
        "df"
      ],
      "execution_count": null,
      "outputs": []
    },
    {
      "cell_type": "markdown",
      "metadata": {
        "id": "u3Lld_g2ZE5u"
      },
      "source": [
        "\n",
        "\n",
        "---\n",
        "Tradução do conteúda da coluna Educacao\n"
      ]
    },
    {
      "cell_type": "code",
      "metadata": {
        "id": "pi9VOFij2G49",
        "colab": {
          "base_uri": "https://localhost:8080/"
        },
        "outputId": "fbc51e9f-5bb0-42be-dcf2-d46c49f518d0"
      },
      "source": [
        "df['Educacao'].value_counts()"
      ],
      "execution_count": null,
      "outputs": [
        {
          "output_type": "execute_result",
          "data": {
            "text/plain": [
              "Graduation    1127\n",
              "PhD            486\n",
              "Master         370\n",
              "2n Cycle       203\n",
              "Basic           54\n",
              "Name: Educacao, dtype: int64"
            ]
          },
          "metadata": {},
          "execution_count": 33
        }
      ]
    },
    {
      "cell_type": "code",
      "metadata": {
        "id": "uVEBRghovnS3"
      },
      "source": [
        "df['Educacao'].replace(['Graduation','PhD', 'Master', 'Basic', '2n Cycle'],['Graduacao', 'Doutorado', 'Mestre', 'Mestrando', 'EnsinoMedio'], inplace=True)"
      ],
      "execution_count": null,
      "outputs": []
    },
    {
      "cell_type": "code",
      "metadata": {
        "id": "qvK4wKwR0nzy"
      },
      "source": [
        "df_backup_100100 = df.copy()"
      ],
      "execution_count": null,
      "outputs": []
    },
    {
      "cell_type": "markdown",
      "metadata": {
        "id": "DTGuOLwPZMpe"
      },
      "source": [
        "\n",
        "\n",
        "---\n",
        "Tradução do conteúdo da coluna EstadoCivil\n"
      ]
    },
    {
      "cell_type": "code",
      "metadata": {
        "id": "pD1O7P6y2P_y",
        "colab": {
          "base_uri": "https://localhost:8080/"
        },
        "outputId": "2c09cd34-19ff-4c82-f45f-aadfd51d69d3"
      },
      "source": [
        "df_backup_100100['EstadoCivil'].value_counts()"
      ],
      "execution_count": null,
      "outputs": [
        {
          "output_type": "execute_result",
          "data": {
            "text/plain": [
              "Married     864\n",
              "Together    580\n",
              "Single      480\n",
              "Divorced    232\n",
              "Widow        77\n",
              "Alone         3\n",
              "YOLO          2\n",
              "Absurd        2\n",
              "Name: EstadoCivil, dtype: int64"
            ]
          },
          "metadata": {},
          "execution_count": 36
        }
      ]
    },
    {
      "cell_type": "code",
      "metadata": {
        "id": "Hqi1E8SN05Rz"
      },
      "source": [
        "df_backup_100100['EstadoCivil'].replace(['Married','Together', 'Single', 'Divorced', 'Widow'],['Casado', 'UniaoEstavel', 'Solteiro', 'Divorciado', 'Viuvo'], inplace=True)"
      ],
      "execution_count": null,
      "outputs": []
    },
    {
      "cell_type": "code",
      "metadata": {
        "id": "pNiHlYu4BdSm"
      },
      "source": [
        "df_backup_100100['EstadoCivil'].replace(['Alone', 'Absurd', 'YOLO'],pd.NA, inplace=True)"
      ],
      "execution_count": null,
      "outputs": []
    },
    {
      "cell_type": "code",
      "metadata": {
        "id": "i_iSQGJz4kzZ"
      },
      "source": [
        "df_backup_100101 = df_backup_100100.copy()"
      ],
      "execution_count": null,
      "outputs": []
    },
    {
      "cell_type": "markdown",
      "metadata": {
        "id": "BW_vvxY_ZYa2"
      },
      "source": [
        "\n",
        "---\n",
        "Verificação dos anos de nascimento para verificar outliers\n",
        "\n"
      ]
    },
    {
      "cell_type": "code",
      "metadata": {
        "id": "r3c9hTFb4qfN"
      },
      "source": [
        "df_backup_100101['AnoNascimento'].value_counts()"
      ],
      "execution_count": null,
      "outputs": []
    },
    {
      "cell_type": "code",
      "metadata": {
        "id": "_Ge1mulR6wnz"
      },
      "source": [
        "df_backup_100102 = df_backup_100101.copy()"
      ],
      "execution_count": null,
      "outputs": []
    },
    {
      "cell_type": "code",
      "metadata": {
        "id": "8loqwHsr87T5",
        "colab": {
          "base_uri": "https://localhost:8080/"
        },
        "outputId": "2c67a2b6-7573-444e-a405-2f8cc9bc36d6"
      },
      "source": [
        "df_backup_100102['EstadoCivil'].isna().value_counts()"
      ],
      "execution_count": null,
      "outputs": [
        {
          "output_type": "execute_result",
          "data": {
            "text/plain": [
              "False    2233\n",
              "True        7\n",
              "Name: EstadoCivil, dtype: int64"
            ]
          },
          "metadata": {},
          "execution_count": 87
        }
      ]
    },
    {
      "cell_type": "markdown",
      "metadata": {
        "id": "dqbuNci7Zhf-"
      },
      "source": [
        "\n",
        "\n",
        "---\n",
        "\n",
        "Deletando da tabela informações de clientes cujo EstadoCivil Não é Aplicável(NA)"
      ]
    },
    {
      "cell_type": "code",
      "metadata": {
        "id": "AYxqy3GcD36e"
      },
      "source": [
        "df_backup_100102.dropna(subset=['EstadoCivil'], inplace = True)"
      ],
      "execution_count": null,
      "outputs": []
    },
    {
      "cell_type": "markdown",
      "metadata": {
        "id": "okfLPaTEZ3JX"
      },
      "source": [
        "\n",
        "\n",
        "---\n",
        "Alterando coluna Resposta para que a informação fique compreensível\n"
      ]
    },
    {
      "cell_type": "code",
      "metadata": {
        "id": "wgGqZKgw_LDN"
      },
      "source": [
        "df_backup_100102['Resposta'].replace([0, 1],['Rejeitou', 'Aceitou'], inplace=True)"
      ],
      "execution_count": null,
      "outputs": []
    },
    {
      "cell_type": "code",
      "metadata": {
        "id": "DJGpFFXvAla4"
      },
      "source": [
        "df_backup_100102.isna().sum()"
      ],
      "execution_count": null,
      "outputs": []
    },
    {
      "cell_type": "markdown",
      "metadata": {
        "id": "tIAGgjwGaFGP"
      },
      "source": [
        "\n",
        "\n",
        "---\n",
        "Conversão das Datas de Inscrição dos usuários para datetime, para que possam ser utilizadas com mais facilidade na análise\n"
      ]
    },
    {
      "cell_type": "code",
      "metadata": {
        "id": "oC24IsZEGrno"
      },
      "source": [
        "df_backup_100102['DtInscricao']= pd.to_datetime(df['DtInscricao'])"
      ],
      "execution_count": null,
      "outputs": []
    },
    {
      "cell_type": "markdown",
      "metadata": {
        "id": "QWKNEwAFaWWC"
      },
      "source": [
        "\n",
        "\n",
        "---\n",
        "Remoção de colunas desnecessárias para a análise"
      ]
    },
    {
      "cell_type": "code",
      "metadata": {
        "id": "u4PfVpCjt5Ma"
      },
      "source": [
        "df_backup_100102.drop(columns=['CustoContato', 'ReceitaContato'], inplace=True)"
      ],
      "execution_count": null,
      "outputs": []
    },
    {
      "cell_type": "markdown",
      "metadata": {
        "id": "rhL1voY-aek2"
      },
      "source": [
        "\n",
        "\n",
        "---\n",
        "Alterando coluna Reclamacao para que a informação fique compreensível\n",
        "\n"
      ]
    },
    {
      "cell_type": "code",
      "metadata": {
        "id": "zhv6jCO3DO6W"
      },
      "source": [
        "df_backup_100102['Reclamacao'].replace([0, 1],['NaoReclamou', 'Reclamou'], inplace=True)\n"
      ],
      "execution_count": null,
      "outputs": []
    },
    {
      "cell_type": "code",
      "metadata": {
        "id": "h6kgIak6JR1P"
      },
      "source": [
        "df_backup_100102.isna().sum()"
      ],
      "execution_count": null,
      "outputs": []
    },
    {
      "cell_type": "code",
      "metadata": {
        "id": "OgipxtP6KJW4"
      },
      "source": [
        "DataFrame_Marketing = df_backup_100102.copy()"
      ],
      "execution_count": null,
      "outputs": []
    },
    {
      "cell_type": "markdown",
      "metadata": {
        "id": "2BNXSU1Wa564"
      },
      "source": [
        "\n",
        "\n",
        "---\n",
        "Exportando o DataFrame para ser o Google Drive\n"
      ]
    },
    {
      "cell_type": "code",
      "metadata": {
        "id": "HppULHKUKTKa"
      },
      "source": [
        "DataFrame_Marketing.to_csv('/content/drive/MyDrive/Colab Notebooks/pre-projeto-analise de dados/marketing_dataframe.csv', sep=',', index='false')\n"
      ],
      "execution_count": null,
      "outputs": []
    }
  ]
}