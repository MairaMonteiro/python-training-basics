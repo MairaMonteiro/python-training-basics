{
  "nbformat": 4,
  "nbformat_minor": 0,
  "metadata": {
    "colab": {
      "name": "pré-projeto-Spark-SQL.ipynb",
      "provenance": []
    },
    "kernelspec": {
      "name": "python3",
      "display_name": "Python 3"
    },
    "language_info": {
      "name": "python"
    }
  },
  "cells": [
    {
      "cell_type": "markdown",
      "metadata": {
        "id": "Z9SUYYMdkCuo"
      },
      "source": [
        "Istalação e importação do pySpark para análise"
      ]
    },
    {
      "cell_type": "code",
      "metadata": {
        "colab": {
          "base_uri": "https://localhost:8080/"
        },
        "id": "LaS0HpO2koYQ",
        "outputId": "2ca84f70-ff2b-4da5-80df-96f9dcdf5289"
      },
      "source": [
        "pip install pyspark"
      ],
      "execution_count": null,
      "outputs": [
        {
          "output_type": "stream",
          "name": "stdout",
          "text": [
            "Collecting pyspark\n",
            "  Downloading pyspark-3.2.0.tar.gz (281.3 MB)\n",
            "\u001b[K     |████████████████████████████████| 281.3 MB 41 kB/s \n",
            "\u001b[?25hCollecting py4j==0.10.9.2\n",
            "  Downloading py4j-0.10.9.2-py2.py3-none-any.whl (198 kB)\n",
            "\u001b[K     |████████████████████████████████| 198 kB 15.0 MB/s \n",
            "\u001b[?25hBuilding wheels for collected packages: pyspark\n",
            "  Building wheel for pyspark (setup.py) ... \u001b[?25l\u001b[?25hdone\n",
            "  Created wheel for pyspark: filename=pyspark-3.2.0-py2.py3-none-any.whl size=281805912 sha256=d2ea9ce08823255e9aef776eb2a6901fd312f1a44239010ec84d0d052dfa954c\n",
            "  Stored in directory: /root/.cache/pip/wheels/0b/de/d2/9be5d59d7331c6c2a7c1b6d1a4f463ce107332b1ecd4e80718\n",
            "Successfully built pyspark\n",
            "Installing collected packages: py4j, pyspark\n",
            "Successfully installed py4j-0.10.9.2 pyspark-3.2.0\n"
          ]
        }
      ]
    },
    {
      "cell_type": "code",
      "metadata": {
        "id": "rfWZKEbxngtE"
      },
      "source": [
        "from pyspark.sql import SparkSession\n",
        "import pyspark.sql.functions as F"
      ],
      "execution_count": null,
      "outputs": []
    },
    {
      "cell_type": "markdown",
      "metadata": {
        "id": "WlarXqhZkKmb"
      },
      "source": [
        "Configurando SparkSession\n"
      ]
    },
    {
      "cell_type": "code",
      "metadata": {
        "id": "JL8Ahx8AnqiT"
      },
      "source": [
        "spark = (\n",
        "    SparkSession.builder\n",
        "      .master('local')\n",
        "      .appName('marketing')\n",
        "      .config('spark.ui.port', '4050')\n",
        "      .getOrCreate()\n",
        ")"
      ],
      "execution_count": null,
      "outputs": []
    },
    {
      "cell_type": "markdown",
      "metadata": {
        "id": "eBEIfeMnkTXS"
      },
      "source": [
        "\n",
        "\n",
        "\n",
        "---\n",
        "\n",
        "\n",
        "Importação do DataFrame"
      ]
    },
    {
      "cell_type": "code",
      "metadata": {
        "id": "E-dsz1noqG23"
      },
      "source": [
        "df = (spark.read\n",
        "           .format(\"csv\") \n",
        "           .option(\"inferSchema\", \"true\") \n",
        "           .option(\"header\", \"true\") \n",
        "           .option(\"sep\", \",\") \n",
        "           .load(\"/content/drive/MyDrive/Colab Notebooks/pre-projeto-analise de dados/marketing_campaign_pySpark/part-00000-9801276f-e106-4346-9280-6d6b0aa044b2-c000.csv\")\n",
        "           .createOrReplaceTempView(\"marketing\")\n",
        "     )"
      ],
      "execution_count": null,
      "outputs": []
    },
    {
      "cell_type": "markdown",
      "metadata": {
        "id": "3Xbr_D1PkZFY"
      },
      "source": [
        "Verificação do Dataframe"
      ]
    },
    {
      "cell_type": "code",
      "metadata": {
        "colab": {
          "base_uri": "https://localhost:8080/"
        },
        "id": "5rLh_2MMoaHn",
        "outputId": "6dad9586-0b3d-4cd2-c002-cce9408bd099"
      },
      "source": [
        "spark.sql('SELECT * FROM marketing').show()"
      ],
      "execution_count": null,
      "outputs": [
        {
          "output_type": "stream",
          "name": "stdout",
          "text": [
            "+----+-------------+-----------+------------+-------+-------------+-----------------+-------------+------------+----------+-----------+-------------------+------------------+------------------+------------------+-----------------+------------+-----------------+-------------+--------------+-----------------+-----------------+-----------------+-----------------+-----------------+-----------+--------+-----------------+------------+-----------+\n",
            "|  ID|AnoNascimento|   Educacao| EstadoCivil|Receita|CriancaNaCasa|AdolescenteNaCasa|DataInscricao|UltimaCompra|TotalVinho|TotalFrutas|TotalProdutosCarnes|TotalProdutosPeixe|TotalProdutosDoces|TotaltProdutosOuro|QtComprasDesconto|QtComprasWeb|QtComprasCatalogo|QtComprasLoja|QtVistasWebMes|AceitouCamapanha3|AceitouCamapanha4|AceitouCamapanha5|AceitouCamapanha1|AceitouCamapanha2| Reclamacao|Resposta|QtCamapanhaAceita|TotalCompras|MenorEmCasa|\n",
            "+----+-------------+-----------+------------+-------+-------------+-----------------+-------------+------------+----------+-----------+-------------------+------------------+------------------+------------------+-----------------+------------+-----------------+-------------+--------------+-----------------+-----------------+-----------------+-----------------+-----------------+-----------+--------+-----------------+------------+-----------+\n",
            "|5524|         1957|  Graduacao|    Solteiro|58138.0|            0|                0|   2012-04-09|          58|       635|         88|                546|               172|                88|                88|                3|           8|               10|            4|             7|                0|                0|                0|                0|                0|NaoReclamou| Aceitou|                0|          25|          0|\n",
            "|2174|         1954|  Graduacao|    Solteiro|46344.0|            1|                1|   2014-08-03|          38|        11|          1|                  6|                 2|                 1|                 6|                2|           1|                1|            2|             5|                0|                0|                0|                0|                0|NaoReclamou|Rejeitou|                0|           6|          2|\n",
            "|4141|         1965|  Graduacao|UniaoEstavel|71613.0|            0|                0|   2013-08-21|          26|       426|         49|                127|               111|                21|                42|                1|           8|                2|           10|             4|                0|                0|                0|                0|                0|NaoReclamou|Rejeitou|                0|          21|          0|\n",
            "|6182|         1984|  Graduacao|UniaoEstavel|26646.0|            1|                0|   2014-10-02|          26|        11|          4|                 20|                10|                 3|                 5|                2|           2|                0|            4|             6|                0|                0|                0|                0|                0|NaoReclamou|Rejeitou|                0|           8|          1|\n",
            "|5324|         1981|  Doutorado|      Casado|58293.0|            1|                0|   2014-01-19|          94|       173|         43|                118|                46|                27|                15|                5|           5|                3|            6|             5|                0|                0|                0|                0|                0|NaoReclamou|Rejeitou|                0|          19|          1|\n",
            "|7446|         1967|     Mestre|UniaoEstavel|62513.0|            0|                1|   2013-09-09|          16|       520|         42|                 98|                 0|                42|                14|                2|           6|                4|           10|             6|                0|                0|                0|                0|                0|NaoReclamou|Rejeitou|                0|          22|          1|\n",
            "| 965|         1971|  Graduacao|  Divorciado|55635.0|            0|                1|   2012-11-13|          34|       235|         65|                164|                50|                49|                27|                4|           7|                3|            7|             6|                0|                0|                0|                0|                0|NaoReclamou|Rejeitou|                0|          21|          1|\n",
            "|6177|         1985|  Doutorado|      Casado|33454.0|            1|                0|   2013-08-05|          32|        76|         10|                 56|                 3|                 1|                23|                2|           4|                0|            4|             8|                0|                0|                0|                0|                0|NaoReclamou|Rejeitou|                0|          10|          1|\n",
            "|4855|         1974|  Doutorado|UniaoEstavel|30351.0|            1|                0|   2013-06-06|          19|        14|          0|                 24|                 3|                 3|                 2|                1|           3|                0|            2|             9|                0|                0|                0|                0|                0|NaoReclamou| Aceitou|                0|           6|          1|\n",
            "|5899|         1950|  Doutorado|UniaoEstavel| 5648.0|            1|                1|   2014-03-13|          68|        28|          0|                  6|                 1|                 1|                13|                1|           1|                0|            0|            20|                1|                0|                0|                0|                0|NaoReclamou|Rejeitou|                1|           2|          2|\n",
            "|1994|         1983|  Graduacao|      Casado|   null|            1|                0|   2013-11-15|          11|         5|          5|                  6|                 0|                 2|                 1|                1|           1|                0|            2|             7|                0|                0|                0|                0|                0|NaoReclamou|Rejeitou|                0|           4|          1|\n",
            "| 387|         1976|  Mestrando|      Casado| 7500.0|            0|                0|   2012-11-13|          59|         6|         16|                 11|                11|                 1|                16|                1|           2|                0|            3|             8|                0|                0|                0|                0|                0|NaoReclamou|Rejeitou|                0|           6|          0|\n",
            "|2125|         1959|  Graduacao|  Divorciado|63033.0|            0|                0|   2013-11-15|          82|       194|         61|                480|               225|               112|                30|                1|           3|                4|            8|             2|                0|                0|                0|                0|                0|NaoReclamou|Rejeitou|                0|          16|          0|\n",
            "|8180|         1952|     Mestre|  Divorciado|59354.0|            1|                1|   2013-11-15|          53|       233|          2|                 53|                 3|                 5|                14|                3|           6|                1|            5|             6|                0|                0|                0|                0|                0|NaoReclamou|Rejeitou|                0|          15|          2|\n",
            "|2569|         1987|  Graduacao|      Casado|17323.0|            0|                0|   2012-10-10|          38|         3|         14|                 17|                 6|                 1|                 5|                1|           1|                0|            3|             8|                0|                0|                0|                0|                0|NaoReclamou|Rejeitou|                0|           5|          0|\n",
            "|2114|         1946|  Doutorado|    Solteiro|82800.0|            0|                0|   2012-11-24|          23|      1006|         22|                115|                59|                68|                45|                1|           7|                6|           12|             3|                0|                0|                1|                1|                0|NaoReclamou| Aceitou|                2|          26|          0|\n",
            "|9736|         1980|  Graduacao|      Casado|41850.0|            1|                1|   2012-12-24|          51|        53|          5|                 19|                 2|                13|                 4|                3|           3|                0|            3|             8|                0|                0|                0|                0|                0|NaoReclamou|Rejeitou|                0|           9|          2|\n",
            "|4939|         1946|  Graduacao|UniaoEstavel|37760.0|            0|                0|   2012-08-31|          20|        84|          5|                 38|               150|                12|                28|                2|           4|                1|            6|             7|                0|                0|                0|                0|                0|NaoReclamou|Rejeitou|                0|          13|          0|\n",
            "|6565|         1949|     Mestre|      Casado|76995.0|            0|                1|   2013-03-28|          91|      1012|         80|                498|                 0|                16|               176|                2|          11|                4|            9|             5|                0|                0|                0|                1|                0|NaoReclamou|Rejeitou|                1|          26|          1|\n",
            "|2278|         1985|EnsinoMedio|    Solteiro|33812.0|            1|                0|   2012-03-11|          86|         4|         17|                 19|                30|                24|                39|                2|           2|                1|            3|             6|                0|                0|                0|                0|                0|NaoReclamou|Rejeitou|                0|           8|          1|\n",
            "+----+-------------+-----------+------------+-------+-------------+-----------------+-------------+------------+----------+-----------+-------------------+------------------+------------------+------------------+-----------------+------------+-----------------+-------------+--------------+-----------------+-----------------+-----------------+-----------------+-----------------+-----------+--------+-----------------+------------+-----------+\n",
            "only showing top 20 rows\n",
            "\n"
          ]
        }
      ]
    },
    {
      "cell_type": "markdown",
      "metadata": {
        "id": "0ytVbarCuSwC"
      },
      "source": [
        "\n",
        "\n",
        "---\n",
        "\n",
        "\n",
        "Consulta para descobrir o perfil de clientes que compram com frequencia na loja"
      ]
    },
    {
      "cell_type": "code",
      "metadata": {
        "colab": {
          "base_uri": "https://localhost:8080/"
        },
        "id": "22tqqi2tqwbZ",
        "outputId": "28e8d8c1-c6f4-4554-d482-8c04f1954815"
      },
      "source": [
        "spark.sql('SELECT AnoNascimento, Educacao, EstadoCivil, Reclamacao, TotalCompras FROM marketing WHERE TotalCompras > 10').show()"
      ],
      "execution_count": null,
      "outputs": [
        {
          "output_type": "stream",
          "name": "stdout",
          "text": [
            "+-------------+---------+------------+-----------+------------+\n",
            "|AnoNascimento| Educacao| EstadoCivil| Reclamacao|TotalCompras|\n",
            "+-------------+---------+------------+-----------+------------+\n",
            "|         1957|Graduacao|    Solteiro|NaoReclamou|          25|\n",
            "|         1965|Graduacao|UniaoEstavel|NaoReclamou|          21|\n",
            "|         1981|Doutorado|      Casado|NaoReclamou|          19|\n",
            "|         1967|   Mestre|UniaoEstavel|NaoReclamou|          22|\n",
            "|         1971|Graduacao|  Divorciado|NaoReclamou|          21|\n",
            "|         1959|Graduacao|  Divorciado|NaoReclamou|          16|\n",
            "|         1952|   Mestre|  Divorciado|NaoReclamou|          15|\n",
            "|         1946|Doutorado|    Solteiro|NaoReclamou|          26|\n",
            "|         1946|Graduacao|UniaoEstavel|NaoReclamou|          13|\n",
            "|         1949|   Mestre|      Casado|NaoReclamou|          26|\n",
            "|         1982|Graduacao|      Casado|NaoReclamou|          12|\n",
            "|         1979|Graduacao|      Casado|NaoReclamou|          43|\n",
            "|         1949|Doutorado|      Casado|NaoReclamou|          17|\n",
            "|         1954|Doutorado|      Casado|NaoReclamou|          20|\n",
            "|         1951|Graduacao|UniaoEstavel|NaoReclamou|          20|\n",
            "|         1976|Graduacao|      Casado|NaoReclamou|          14|\n",
            "|         1986|Graduacao|    Solteiro|NaoReclamou|          27|\n",
            "|         1965|Doutorado|      Casado|NaoReclamou|          26|\n",
            "|         1963|   Mestre|UniaoEstavel|NaoReclamou|          11|\n",
            "|         1952|Doutorado|  Divorciado|NaoReclamou|          17|\n",
            "+-------------+---------+------------+-----------+------------+\n",
            "only showing top 20 rows\n",
            "\n"
          ]
        }
      ]
    },
    {
      "cell_type": "markdown",
      "metadata": {
        "id": "GAPCaoWdksbL"
      },
      "source": [
        "\n",
        "\n",
        "---\n",
        "Consulta para verificar se há correlação entre montante gasto em frutas e a quantidade de crianças morando na casa\n"
      ]
    },
    {
      "cell_type": "code",
      "metadata": {
        "id": "FvPRPDZUuLe9",
        "colab": {
          "base_uri": "https://localhost:8080/"
        },
        "outputId": "6a471eb6-28b1-413d-838e-9bc77c6f7bc3"
      },
      "source": [
        "spark.sql('spark.sql('SELECT TotalFrutas, CriancaNaCasa, TotalCompras FROM marketing ORDER BY TotalFrutas DESC').show()"
      ],
      "execution_count": null,
      "outputs": [
        {
          "output_type": "stream",
          "name": "stdout",
          "text": [
            "+-----------+-------------+------------+\n",
            "|TotalFrutas|CriancaNaCasa|TotalCompras|\n",
            "+-----------+-------------+------------+\n",
            "|        199|            0|          31|\n",
            "|        199|            0|          31|\n",
            "|        197|            0|          24|\n",
            "|        194|            0|          14|\n",
            "|        194|            0|          17|\n",
            "|        194|            0|          17|\n",
            "|        193|            0|          22|\n",
            "|        193|            0|          20|\n",
            "|        190|            0|          17|\n",
            "|        189|            0|          17|\n",
            "|        185|            0|          19|\n",
            "|        185|            0|          19|\n",
            "|        184|            0|          17|\n",
            "|        183|            0|          21|\n",
            "|        183|            0|          22|\n",
            "|        183|            0|          21|\n",
            "|        181|            0|          30|\n",
            "|        178|            0|          25|\n",
            "|        178|            0|          21|\n",
            "|        178|            0|          20|\n",
            "+-----------+-------------+------------+\n",
            "only showing top 20 rows\n",
            "\n"
          ]
        }
      ]
    },
    {
      "cell_type": "markdown",
      "metadata": {
        "id": "y6DRfKLfk-Mz"
      },
      "source": [
        "\n",
        "\n",
        "---\n",
        "Consulta para verificar relação entre educação e receita para pessoas nascidas depois de 1990 sem menores morando na mesma casa\n"
      ]
    },
    {
      "cell_type": "code",
      "metadata": {
        "colab": {
          "base_uri": "https://localhost:8080/"
        },
        "id": "wP9bB23k64sl",
        "outputId": "a2ab9088-4bad-481f-ef87-167ace75891b"
      },
      "source": [
        "spark.sql('SELECT Educacao, MenorEmCasa, Receita, EstadoCivil FROM marketing WHERE MenorEmCasa == 0 AND AnoNascimento > 1990;').show()"
      ],
      "execution_count": null,
      "outputs": [
        {
          "output_type": "stream",
          "name": "stdout",
          "text": [
            "+-----------+-----------+-------+------------+\n",
            "|   Educacao|MenorEmCasa|Receita| EstadoCivil|\n",
            "+-----------+-----------+-------+------------+\n",
            "|EnsinoMedio|          0| 7500.0|      Casado|\n",
            "|  Doutorado|          0|68126.0|    Solteiro|\n",
            "|  Graduacao|          0|86037.0|    Solteiro|\n",
            "|     Mestre|          0|92859.0|    Solteiro|\n",
            "|     Mestre|          0|42670.0|UniaoEstavel|\n",
            "|  Graduacao|          0|74293.0|    Solteiro|\n",
            "|  Doutorado|          0|68682.0|UniaoEstavel|\n",
            "|  Graduacao|          0|80134.0|UniaoEstavel|\n",
            "|  Graduacao|          0|34935.0|      Casado|\n",
            "|  Graduacao|          0|42691.0|      Casado|\n",
            "|  Graduacao|          0|34824.0|    Solteiro|\n",
            "|  Graduacao|          0|89891.0|UniaoEstavel|\n",
            "|  Graduacao|          0|71163.0|    Solteiro|\n",
            "|  Graduacao|          0|48789.0|    Solteiro|\n",
            "|EnsinoMedio|          0|61618.0|    Solteiro|\n",
            "|  Graduacao|          0|75114.0|UniaoEstavel|\n",
            "|  Graduacao|          0|95529.0|    Solteiro|\n",
            "|  Graduacao|          0|72354.0|    Solteiro|\n",
            "|  Graduacao|          0|74293.0|    Solteiro|\n",
            "|  Graduacao|          0|34824.0|    Solteiro|\n",
            "+-----------+-----------+-------+------------+\n",
            "only showing top 20 rows\n",
            "\n"
          ]
        }
      ]
    },
    {
      "cell_type": "markdown",
      "metadata": {
        "id": "gApRnZATlZDx"
      },
      "source": [
        "---\n",
        "Observar a relação entre consumo de vinho e escolaridade em casa para viúvos"
      ]
    },
    {
      "cell_type": "code",
      "metadata": {
        "colab": {
          "base_uri": "https://localhost:8080/"
        },
        "id": "pB3bt_Gx8A0h",
        "outputId": "3c003479-3a51-4834-8bbc-31b91688930f"
      },
      "source": [
        "spark.sql('SELECT Educacao, EstadoCivil FROM marketing WHERE EstadoCivil = \"Viuvo\"').show()"
      ],
      "execution_count": null,
      "outputs": [
        {
          "output_type": "stream",
          "name": "stdout",
          "text": [
            "+-----------+-----------+-----------+\n",
            "|   Educacao|MenorEmCasa|EstadoCivil|\n",
            "+-----------+-----------+-----------+\n",
            "|  Graduacao|          1|      Viuvo|\n",
            "|  Graduacao|          1|      Viuvo|\n",
            "|  Doutorado|          1|      Viuvo|\n",
            "|  Graduacao|          1|      Viuvo|\n",
            "|     Mestre|          1|      Viuvo|\n",
            "|  Graduacao|          0|      Viuvo|\n",
            "|  Graduacao|          0|      Viuvo|\n",
            "|  Graduacao|          0|      Viuvo|\n",
            "|  Graduacao|          2|      Viuvo|\n",
            "|  Doutorado|          1|      Viuvo|\n",
            "|  Graduacao|          0|      Viuvo|\n",
            "|     Mestre|          1|      Viuvo|\n",
            "|  Graduacao|          0|      Viuvo|\n",
            "|  Doutorado|          1|      Viuvo|\n",
            "|  Graduacao|          1|      Viuvo|\n",
            "|EnsinoMedio|          0|      Viuvo|\n",
            "|  Graduacao|          0|      Viuvo|\n",
            "|EnsinoMedio|          1|      Viuvo|\n",
            "|  Graduacao|          1|      Viuvo|\n",
            "|  Graduacao|          0|      Viuvo|\n",
            "+-----------+-----------+-----------+\n",
            "only showing top 20 rows\n",
            "\n"
          ]
        }
      ]
    },
    {
      "cell_type": "markdown",
      "metadata": {
        "id": "OCiKvyiFlw78"
      },
      "source": [
        "---\n",
        "Relação entre receita, educação e menores morando na mesma casa para solteiros\n",
        "\n"
      ]
    },
    {
      "cell_type": "code",
      "metadata": {
        "colab": {
          "base_uri": "https://localhost:8080/"
        },
        "id": "4KnKgwbP9z1Y",
        "outputId": "eb8d3bda-927f-40c4-94b9-8d3fccd16aff"
      },
      "source": [
        "spark.sql('SELECT Educacao, Receita, MenorEmCasa, EstadoCivil FROM marketing WHERE EstadoCivil = \"Solteiro\" ORDER BY Receita ASC').show()"
      ],
      "execution_count": null,
      "outputs": [
        {
          "output_type": "stream",
          "name": "stdout",
          "text": [
            "+-----------+-------+-----------+-----------+\n",
            "|   Educacao|Receita|MenorEmCasa|EstadoCivil|\n",
            "+-----------+-------+-----------+-----------+\n",
            "|  Doutorado|   null|          0|   Solteiro|\n",
            "|  Graduacao|   null|          3|   Solteiro|\n",
            "|  Graduacao|   null|          3|   Solteiro|\n",
            "|EnsinoMedio|   null|          2|   Solteiro|\n",
            "|  Doutorado|   null|          1|   Solteiro|\n",
            "|  Graduacao|   null|          1|   Solteiro|\n",
            "|  Graduacao|   null|          1|   Solteiro|\n",
            "|  Graduacao|   null|          2|   Solteiro|\n",
            "|  Graduacao|   null|          1|   Solteiro|\n",
            "|  Graduacao| 3502.0|          1|   Solteiro|\n",
            "|     Mestre| 6560.0|          0|   Solteiro|\n",
            "|  Doutorado| 7144.0|          2|   Solteiro|\n",
            "|  Mestrando| 7500.0|          1|   Solteiro|\n",
            "|  Graduacao| 7500.0|          2|   Solteiro|\n",
            "|  Graduacao| 7500.0|          1|   Solteiro|\n",
            "|  Graduacao| 8028.0|          0|   Solteiro|\n",
            "|     Mestre| 8820.0|          2|   Solteiro|\n",
            "|  Mestrando| 8940.0|          1|   Solteiro|\n",
            "|  Graduacao| 9255.0|          1|   Solteiro|\n",
            "|  Graduacao|10245.0|          1|   Solteiro|\n",
            "+-----------+-------+-----------+-----------+\n",
            "only showing top 20 rows\n",
            "\n"
          ]
        }
      ]
    },
    {
      "cell_type": "markdown",
      "metadata": {
        "id": "ZeXj39gCp3WI"
      },
      "source": [
        "---\n",
        "Número máximo de menores morando na mesma casa "
      ]
    },
    {
      "cell_type": "code",
      "metadata": {
        "colab": {
          "base_uri": "https://localhost:8080/"
        },
        "id": "GdWHXURV-qto",
        "outputId": "8739f662-e257-40f2-a12f-d7df6b98f7ba"
      },
      "source": [
        "spark.sql(\"SELECT MenorEmCasa FROM marketing\").distinct().show()\n"
      ],
      "execution_count": null,
      "outputs": [
        {
          "output_type": "stream",
          "name": "stdout",
          "text": [
            "+-----------+\n",
            "|MenorEmCasa|\n",
            "+-----------+\n",
            "|          1|\n",
            "|          3|\n",
            "|          2|\n",
            "|          0|\n",
            "+-----------+\n",
            "\n"
          ]
        }
      ]
    },
    {
      "cell_type": "markdown",
      "metadata": {
        "id": "omQLlyYYqQtt"
      },
      "source": [
        "---\n",
        "Relação entre gastos para consumo de carne e consumo de peixe, organizado em relação a total de compras realizadas com a empresa"
      ]
    },
    {
      "cell_type": "code",
      "metadata": {
        "colab": {
          "base_uri": "https://localhost:8080/"
        },
        "id": "AKC5GY0J-7gi",
        "outputId": "c20f3175-bb91-449e-80c3-b6b3daef9bd9"
      },
      "source": [
        "spark.sql(\"SELECT TotalProdutosCarnes, TotalProdutosPeixe FROM marketing ORDER BY TotalCompras DESC\").show()"
      ],
      "execution_count": null,
      "outputs": [
        {
          "output_type": "stream",
          "name": "stdout",
          "text": [
            "+-------------------+------------------+\n",
            "|TotalProdutosCarnes|TotalProdutosPeixe|\n",
            "+-------------------+------------------+\n",
            "|               1622|                17|\n",
            "|               1725|                 1|\n",
            "|                181|               149|\n",
            "|               1582|                 1|\n",
            "|                204|                38|\n",
            "|                265|               115|\n",
            "|                265|               115|\n",
            "|                363|               123|\n",
            "|                572|                93|\n",
            "|                397|                76|\n",
            "|                384|                84|\n",
            "|                242|                55|\n",
            "|                249|                64|\n",
            "|                207|                15|\n",
            "|                217|                29|\n",
            "|                713|                38|\n",
            "|                309|               201|\n",
            "|                 91|                 8|\n",
            "|                161|               120|\n",
            "|                184|                10|\n",
            "+-------------------+------------------+\n",
            "only showing top 20 rows\n",
            "\n"
          ]
        }
      ]
    },
    {
      "cell_type": "markdown",
      "metadata": {
        "id": "XlBL3SIoqmPj"
      },
      "source": [
        "---\n",
        "Relação entre montante dasto em frutas e doces em relação a quantidade de crianças na casa"
      ]
    },
    {
      "cell_type": "code",
      "metadata": {
        "colab": {
          "base_uri": "https://localhost:8080/"
        },
        "id": "dKDijBFcBmV6",
        "outputId": "129d5e58-54a4-4800-83f9-325f7b1b3d9b"
      },
      "source": [
        "spark.sql(\"SELECT CriancaNaCasa, TotalFrutas, TotalProdutosDoces FROM marketing ORDER BY CriancaNaCasa DESC\").show()"
      ],
      "execution_count": null,
      "outputs": [
        {
          "output_type": "stream",
          "name": "stdout",
          "text": [
            "+-------------+-----------+------------------+\n",
            "|CriancaNaCasa|TotalFrutas|TotalProdutosDoces|\n",
            "+-------------+-----------+------------------+\n",
            "|            2|         42|                37|\n",
            "|            2|          1|                 3|\n",
            "|            2|          0|                 4|\n",
            "|            2|          3|                 1|\n",
            "|            2|          0|                 0|\n",
            "|            2|          5|                10|\n",
            "|            2|          0|                 0|\n",
            "|            2|          3|                 1|\n",
            "|            2|          3|                 8|\n",
            "|            2|          1|                 3|\n",
            "|            2|          0|                 0|\n",
            "|            2|          0|                 0|\n",
            "|            2|          3|                 1|\n",
            "|            2|          0|                 0|\n",
            "|            2|          1|                 5|\n",
            "|            2|          1|                 0|\n",
            "|            2|          0|                 0|\n",
            "|            2|          7|                 3|\n",
            "|            2|          0|                 0|\n",
            "|            2|          0|                 0|\n",
            "+-------------+-----------+------------------+\n",
            "only showing top 20 rows\n",
            "\n"
          ]
        }
      ]
    },
    {
      "cell_type": "markdown",
      "metadata": {
        "id": "Hh2qTfKtqwLd"
      },
      "source": [
        "Comparação entre as diferentes possibilidades de meios de compra de acordo com o número de compreas realizado por cada cliente"
      ]
    },
    {
      "cell_type": "code",
      "metadata": {
        "colab": {
          "base_uri": "https://localhost:8080/"
        },
        "id": "uHVCuCVtAdcy",
        "outputId": "27743bc6-5cd5-49f2-89f9-0f04b3a28bda"
      },
      "source": [
        "spark.sql(\"SELECT QtComprasWeb, QtComprasCatalogo, QtComprasLoja, TotalCompras FROM marketing ORDER BY TotalCompras desc\").show()"
      ],
      "execution_count": null,
      "outputs": [
        {
          "output_type": "stream",
          "name": "stdout",
          "text": [
            "+------------+-----------------+-------------+------------+\n",
            "|QtComprasWeb|QtComprasCatalogo|QtComprasLoja|TotalCompras|\n",
            "+------------+-----------------+-------------+------------+\n",
            "|           0|               28|            1|          44|\n",
            "|           0|               28|            0|          43|\n",
            "|           9|                6|            9|          39|\n",
            "|           0|               22|            0|          37|\n",
            "|          11|                9|           12|          35|\n",
            "|          11|               10|           11|          34|\n",
            "|          11|               10|           11|          34|\n",
            "|           8|                9|           13|          34|\n",
            "|          11|               11|            5|          34|\n",
            "|           8|                5|            9|          33|\n",
            "|           6|               10|           13|          33|\n",
            "|           6|                2|           12|          33|\n",
            "|           8|                9|            8|          33|\n",
            "|           9|                6|           12|          32|\n",
            "|           9|                6|           12|          32|\n",
            "|           9|               11|           11|          32|\n",
            "|          11|               10|           10|          32|\n",
            "|           8|                2|            9|          32|\n",
            "|          10|                7|           10|          32|\n",
            "|           7|                4|            9|          32|\n",
            "+------------+-----------------+-------------+------------+\n",
            "only showing top 20 rows\n",
            "\n"
          ]
        }
      ]
    },
    {
      "cell_type": "markdown",
      "metadata": {
        "id": "VK2gtyF4q_D6"
      },
      "source": [
        "Comparação do montante gasto em Vinhos, frutas, carnes e peixe organizado de acordo com a quantidade de compras que cada cliente realizou"
      ]
    },
    {
      "cell_type": "code",
      "metadata": {
        "colab": {
          "base_uri": "https://localhost:8080/"
        },
        "id": "zYM-yQfcEBzb",
        "outputId": "0adf09eb-8ff4-475f-d155-ad7a84dacb97"
      },
      "source": [
        "spark.sql(\"SELECT TotalVinho, TotalFrutas, TotalProdutosCarnes, TotalProdutosPeixe, TotalCompras FROM marketing ORDER BY TotalCompras desc\").show()"
      ],
      "execution_count": null,
      "outputs": [
        {
          "output_type": "stream",
          "name": "stdout",
          "text": [
            "+----------+-----------+-------------------+------------------+------------+\n",
            "|TotalVinho|TotalFrutas|TotalProdutosCarnes|TotalProdutosPeixe|TotalCompras|\n",
            "+----------+-----------+-------------------+------------------+------------+\n",
            "|        55|         16|               1622|                17|          44|\n",
            "|         1|          1|               1725|                 1|          43|\n",
            "|       515|         47|                181|               149|          39|\n",
            "|        20|          2|               1582|                 1|          37|\n",
            "|      1200|          0|                204|                38|          35|\n",
            "|      1004|         59|                265|               115|          34|\n",
            "|      1004|         59|                265|               115|          34|\n",
            "|       726|         53|                363|               123|          34|\n",
            "|      1001|         17|                572|                93|          34|\n",
            "|       941|         14|                397|                76|          33|\n",
            "|       563|         76|                384|                84|          33|\n",
            "|       285|         28|                242|                55|          33|\n",
            "|      1215|         33|                249|                64|          33|\n",
            "|       897|         23|                207|                15|          32|\n",
            "|       757|         80|                217|                29|          32|\n",
            "|       387|         20|                713|                38|          32|\n",
            "|       688|         14|                309|               201|          32|\n",
            "|       539|          6|                 91|                 8|          32|\n",
            "|       806|         80|                161|               120|          32|\n",
            "|       490|          0|                184|                10|          32|\n",
            "+----------+-----------+-------------------+------------------+------------+\n",
            "only showing top 20 rows\n",
            "\n"
          ]
        }
      ]
    },
    {
      "cell_type": "markdown",
      "metadata": {
        "id": "W7EkeXcIreMi"
      },
      "source": [
        "---\n",
        "Dados dos clientes que responderam positivamente a pelo menos uma campanha de marketing"
      ]
    },
    {
      "cell_type": "code",
      "metadata": {
        "colab": {
          "base_uri": "https://localhost:8080/"
        },
        "id": "HI_jm0rXEhLr",
        "outputId": "a50b295d-785a-469f-dba1-400dbba3ba30"
      },
      "source": [
        "spark.sql(\"SELECT * FROM marketing WHERE QtCamapanhaAceita > 0\").show()\n"
      ],
      "execution_count": null,
      "outputs": [
        {
          "output_type": "stream",
          "name": "stdout",
          "text": [
            "+----+-------------+-----------+------------+-------+-------------+-----------------+-------------+------------+----------+-----------+-------------------+------------------+------------------+------------------+-----------------+------------+-----------------+-------------+--------------+-----------------+-----------------+-----------------+-----------------+-----------------+-----------+--------+-----------------+------------+-----------+\n",
            "|  ID|AnoNascimento|   Educacao| EstadoCivil|Receita|CriancaNaCasa|AdolescenteNaCasa|DataInscricao|UltimaCompra|TotalVinho|TotalFrutas|TotalProdutosCarnes|TotalProdutosPeixe|TotalProdutosDoces|TotaltProdutosOuro|QtComprasDesconto|QtComprasWeb|QtComprasCatalogo|QtComprasLoja|QtVistasWebMes|AceitouCamapanha3|AceitouCamapanha4|AceitouCamapanha5|AceitouCamapanha1|AceitouCamapanha2| Reclamacao|Resposta|QtCamapanhaAceita|TotalCompras|MenorEmCasa|\n",
            "+----+-------------+-----------+------------+-------+-------------+-----------------+-------------+------------+----------+-----------+-------------------+------------------+------------------+------------------+-----------------+------------+-----------------+-------------+--------------+-----------------+-----------------+-----------------+-----------------+-----------------+-----------+--------+-----------------+------------+-----------+\n",
            "|5899|         1950|  Doutorado|UniaoEstavel| 5648.0|            1|                1|   2014-03-13|          68|        28|          0|                  6|                 1|                 1|                13|                1|           1|                0|            0|            20|                1|                0|                0|                0|                0|NaoReclamou|Rejeitou|                1|           2|          2|\n",
            "|2114|         1946|  Doutorado|    Solteiro|82800.0|            0|                0|   2012-11-24|          23|      1006|         22|                115|                59|                68|                45|                1|           7|                6|           12|             3|                0|                0|                1|                1|                0|NaoReclamou| Aceitou|                2|          26|          0|\n",
            "|6565|         1949|     Mestre|      Casado|76995.0|            0|                1|   2013-03-28|          91|      1012|         80|                498|                 0|                16|               176|                2|          11|                4|            9|             5|                0|                0|                0|                1|                0|NaoReclamou|Rejeitou|                1|          26|          1|\n",
            "|1993|         1949|  Doutorado|      Casado|58607.0|            0|                1|   2012-12-23|          63|       867|          0|                 86|                 0|                 0|                19|                3|           2|                3|            9|             8|                0|                1|                0|                0|                0|NaoReclamou|Rejeitou|                1|          17|          1|\n",
            "|1966|         1965|  Doutorado|      Casado|84618.0|            0|                0|   2013-11-22|          96|       684|        100|                801|                21|                66|                 0|                1|           6|                9|           10|             2|                0|                0|                1|                0|                0|NaoReclamou|Rejeitou|                1|          26|          0|\n",
            "|5710|         1970|  Graduacao|UniaoEstavel|40548.0|            0|                1|   2012-10-10|          31|       110|          0|                  5|                 2|                 0|                 3|                2|           2|                1|            4|             5|                0|                1|                0|                0|                0|NaoReclamou|Rejeitou|                1|           9|          1|\n",
            "|2968|         1943|  Doutorado|  Divorciado|48948.0|            0|                0|   2013-01-02|          53|       437|          8|                206|               160|                49|                42|                2|           7|               10|            5|             6|                1|                0|                0|                0|                0|NaoReclamou| Aceitou|                1|          24|          0|\n",
            "|2225|         1977|  Graduacao|  Divorciado|82582.0|            0|                0|   2014-07-06|          54|       510|        120|                550|               156|                40|               241|                1|           4|                9|            7|             1|                1|                0|                0|                1|                0|NaoReclamou| Aceitou|                2|          21|          0|\n",
            "|6260|         1955|     Mestre|UniaoEstavel|82384.0|            0|                0|   2012-11-19|          55|       984|         51|                432|               180|               120|               190|                1|           3|               10|           13|             1|                0|                0|                1|                0|                0|NaoReclamou| Aceitou|                1|          27|          0|\n",
            "|6853|         1982|     Mestre|    Solteiro|75777.0|            0|                0|   2013-04-07|          12|       712|         26|                538|                69|                13|                80|                1|           3|                6|           11|             1|                0|                1|                1|                0|                0|NaoReclamou| Aceitou|                2|          21|          0|\n",
            "|9369|         1979|EnsinoMedio|    Solteiro|88194.0|            0|                1|   2014-03-19|          19|       688|         14|                309|               201|                24|                38|                1|          11|               10|           10|             5|                1|                0|                0|                1|                0|NaoReclamou| Aceitou|                2|          32|          1|\n",
            "|8132|         1975|  Doutorado|      Casado|60631.0|            1|                1|   2013-05-04|          88|       565|          6|                 65|                 0|                 6|                19|                5|           9|                2|            8|             7|                0|                1|                0|                0|                0|NaoReclamou|Rejeitou|                1|          24|          2|\n",
            "|7503|         1976|  Graduacao|    Solteiro|75825.0|            0|                0|   2012-12-10|          40|      1032|        105|                779|               137|               105|                51|                0|           5|                8|            9|             4|                1|                0|                0|                0|                0|NaoReclamou| Aceitou|                1|          22|          0|\n",
            "|1618|         1965|  Graduacao|UniaoEstavel|56046.0|            0|                0|   2013-02-01|           9|       577|          0|                 64|                 0|                 0|                51|                2|          10|                1|            8|             8|                1|                0|                0|                0|                0|NaoReclamou| Aceitou|                1|          21|          0|\n",
            "| 273|         1970|     Mestre|      Casado|36138.0|            1|                1|   2013-07-16|          48|       130|          0|                 16|                 0|                 0|                 5|                5|           3|                1|            4|             7|                0|                1|                0|                0|                0|NaoReclamou|Rejeitou|                1|          13|          2|\n",
            "|4452|         1957|  Graduacao|    Solteiro|50388.0|            0|                1|   2014-05-28|           3|       292|          6|                 37|                 0|                 3|                34|                4|           6|                1|            6|             7|                0|                1|                0|                1|                0|NaoReclamou| Aceitou|                2|          17|          1|\n",
            "|8504|         1973|  Graduacao|      Casado|79593.0|            0|                0|   2014-12-05|          70|       350|         60|                568|               110|               133|               145|                1|           5|                6|            7|             2|                0|                0|                1|                0|                0|NaoReclamou|Rejeitou|                1|          19|          0|\n",
            "|7247|         1960|  Graduacao|       Viuvo|47916.0|            0|                1|   2012-11-22|          72|       505|          0|                 26|                 0|                 0|                75|                5|           7|                4|            6|             6|                0|                1|                0|                0|                0|NaoReclamou|Rejeitou|                1|          22|          1|\n",
            "|4646|         1951|EnsinoMedio|      Casado|78497.0|            0|                0|   2013-01-12|          44|       207|         26|                447|                75|                 0|               223|                1|           5|                7|           12|             2|                0|                0|                0|                1|                0|NaoReclamou|Rejeitou|                1|          25|          0|\n",
            "|7431|         1991|  Doutorado|    Solteiro|68126.0|            0|                0|   2012-10-11|          40|      1332|         17|                311|                23|                51|                86|                1|           7|                4|            5|             9|                0|                1|                0|                0|                0|NaoReclamou| Aceitou|                1|          17|          0|\n",
            "+----+-------------+-----------+------------+-------+-------------+-----------------+-------------+------------+----------+-----------+-------------------+------------------+------------------+------------------+-----------------+------------+-----------------+-------------+--------------+-----------------+-----------------+-----------------+-----------------+-----------------+-----------+--------+-----------------+------------+-----------+\n",
            "only showing top 20 rows\n",
            "\n"
          ]
        }
      ]
    }
  ]
}