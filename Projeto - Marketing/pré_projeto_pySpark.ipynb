{
  "nbformat": 4,
  "nbformat_minor": 0,
  "metadata": {
    "colab": {
      "name": "pré-projeto-pySpark.ipynb",
      "provenance": []
    },
    "kernelspec": {
      "name": "python3",
      "display_name": "Python 3"
    },
    "language_info": {
      "name": "python"
    }
  },
  "cells": [
    {
      "cell_type": "markdown",
      "metadata": {
        "id": "RS63PwradGZx"
      },
      "source": [
        "Instalação e importação do pySpark\n"
      ]
    },
    {
      "cell_type": "code",
      "metadata": {
        "colab": {
          "base_uri": "https://localhost:8080/"
        },
        "id": "w3aeucri6o1z",
        "outputId": "0845a036-64e1-4b4e-ca1a-ce2708dc2a23"
      },
      "source": [
        "pip install pyspark"
      ],
      "execution_count": null,
      "outputs": [
        {
          "output_type": "stream",
          "name": "stdout",
          "text": [
            "Collecting pyspark\n",
            "  Downloading pyspark-3.2.0.tar.gz (281.3 MB)\n",
            "\u001b[K     |████████████████████████████████| 281.3 MB 33 kB/s \n",
            "\u001b[?25hCollecting py4j==0.10.9.2\n",
            "  Downloading py4j-0.10.9.2-py2.py3-none-any.whl (198 kB)\n",
            "\u001b[K     |████████████████████████████████| 198 kB 55.5 MB/s \n",
            "\u001b[?25hBuilding wheels for collected packages: pyspark\n",
            "  Building wheel for pyspark (setup.py) ... \u001b[?25l\u001b[?25hdone\n",
            "  Created wheel for pyspark: filename=pyspark-3.2.0-py2.py3-none-any.whl size=281805912 sha256=80422affe0d336992b8069b026c712aa911cd5cf2e89d52e11f249d116125180\n",
            "  Stored in directory: /root/.cache/pip/wheels/0b/de/d2/9be5d59d7331c6c2a7c1b6d1a4f463ce107332b1ecd4e80718\n",
            "Successfully built pyspark\n",
            "Installing collected packages: py4j, pyspark\n",
            "Successfully installed py4j-0.10.9.2 pyspark-3.2.0\n"
          ]
        }
      ]
    },
    {
      "cell_type": "code",
      "metadata": {
        "id": "Po7PIeUR7JCv"
      },
      "source": [
        "from pyspark.sql import SparkSession\n",
        "import pyspark.sql.functions as F\n",
        "from pyspark.sql.types import StructType, StructField, StringType, IntegerType, DoubleType, TimestampType, DateType\n",
        "from pyspark.sql.window import Window"
      ],
      "execution_count": null,
      "outputs": []
    },
    {
      "cell_type": "markdown",
      "metadata": {
        "id": "MLnYTy_Ode-A"
      },
      "source": [
        "\n",
        "\n",
        "---\n",
        "Configurando SparkSession\n"
      ]
    },
    {
      "cell_type": "code",
      "metadata": {
        "id": "R1yrqktV9-Hh"
      },
      "source": [
        "spark = (\n",
        "    SparkSession.builder\n",
        "      .master('local')\n",
        "      .appName('marketing')\n",
        "      .config('spark.ui.port', '4050')\n",
        "      .getOrCreate()\n",
        ")"
      ],
      "execution_count": null,
      "outputs": []
    },
    {
      "cell_type": "markdown",
      "metadata": {
        "id": "SPq_D8q-dh1I"
      },
      "source": [
        "\n",
        "\n",
        "---\n",
        "Customização do Schema com StruckType\n"
      ]
    },
    {
      "cell_type": "code",
      "metadata": {
        "id": "YkuBuAvp7hxT"
      },
      "source": [
        "customSchema = StructType([\n",
        "    StructField(\"Index\", IntegerType(), True),\n",
        "    StructField(\"ID\", StringType(), True),\n",
        "    StructField(\"AnoNascimento\", IntegerType(), True),\n",
        "    StructField(\"Educacao\", StringType(), True),\n",
        "    StructField(\"EstadoCivil\", StringType(), True),\n",
        "    StructField(\"Renda\", DoubleType(), True),\n",
        "    StructField(\"CriancaNaCasa\", IntegerType(), True),\n",
        "    StructField(\"AdolescenteNaCasa\", IntegerType(), True),\n",
        "    StructField(\"DtInscricao\", DateType(), True),\n",
        "    StructField(\"UltimaCompra\", IntegerType(), True),\n",
        "    StructField(\"TotalVinho\", IntegerType(), True),\n",
        "    StructField(\"TotalFrutas\", IntegerType(), True),\n",
        "    StructField(\"TotalProdutosCarnes\", IntegerType(), True),\n",
        "    StructField(\"TotalProdutosPeixe\", IntegerType(), True),\n",
        "    StructField(\"TotalProdutosDoces\", IntegerType(), True),        \n",
        "    StructField(\"TotaltProdutosOuro\", IntegerType(), True),\n",
        "    StructField(\"QtComprasDesconto\", IntegerType(), True),\n",
        "    StructField(\"QtComprasWeb\", IntegerType(), True),        \n",
        "    StructField(\"QtComprasCatalogo\", IntegerType(), True),\n",
        "    StructField(\"QtComprasLoja\", IntegerType(), True),\n",
        "    StructField(\"QtVistasWebMes\", IntegerType(), True),        \n",
        "    StructField(\"AceitouCamapanha3\", IntegerType(), True),\n",
        "    StructField(\"AceitouCamapanha4\", IntegerType(), True),\n",
        "    StructField(\"AceitouCamapanha5\", IntegerType(), True),        \n",
        "    StructField(\"AceitouCamapanha1\", IntegerType(), True),\n",
        "    StructField(\"AceitouCamapanha2\", IntegerType(), True),\n",
        "    StructField(\"Reclamacao\", StringType(), True),        \n",
        "    StructField(\"Resposta\", StringType(), True)\n",
        "])\n",
        "\n",
        "df = spark.read.load('/content/drive/MyDrive/Colab Notebooks/pre-projeto-analise de dados/marketing_dataframe.csv', format=\"csv\", header=\"true\", sep=',', schema=customSchema)"
      ],
      "execution_count": null,
      "outputs": []
    },
    {
      "cell_type": "markdown",
      "metadata": {
        "id": "zDHFLNxkdqAI"
      },
      "source": [
        "\n",
        "\n",
        "---\n",
        "Deletar coluna desnecessária para análise\n"
      ]
    },
    {
      "cell_type": "code",
      "metadata": {
        "id": "CkybHgRQKZm8"
      },
      "source": [
        "df = df.drop(\"Index\")"
      ],
      "execution_count": null,
      "outputs": []
    },
    {
      "cell_type": "markdown",
      "metadata": {
        "id": "B3VR1rbZdxnh"
      },
      "source": [
        "\n",
        "\n",
        "---\n",
        "Renomeando colunas\n"
      ]
    },
    {
      "cell_type": "code",
      "metadata": {
        "id": "YyliyjiAH-2n"
      },
      "source": [
        "df = df.withColumnRenamed(\"Renda\",\"Receita\").withColumnRenamed(\"DtInscricao\",\"DataInscricao\")"
      ],
      "execution_count": null,
      "outputs": []
    },
    {
      "cell_type": "markdown",
      "metadata": {
        "id": "Qal9bdsfd7M3"
      },
      "source": [
        "\n",
        "\n",
        "---\n",
        "Adicionando colunas extras que serão úteis para análise dos dados\n"
      ]
    },
    {
      "cell_type": "markdown",
      "metadata": {
        "id": "wWXD-CV1MHGz"
      },
      "source": [
        "Mostrar a quantidade de campanhas de marketing que foram aceitas por cada cliente"
      ]
    },
    {
      "cell_type": "code",
      "metadata": {
        "colab": {
          "base_uri": "https://localhost:8080/"
        },
        "id": "QXy3zU4eKus3",
        "outputId": "2734c873-c6f0-4ea6-c1d0-66fc41430598"
      },
      "source": [
        "df = df.withColumn(\"QtCamapanhaAceita\", F.col(\"AceitouCamapanha3\") + F.col(\"AceitouCamapanha4\") + F.col(\"AceitouCamapanha5\") + F.col(\"AceitouCamapanha1\") + F.col(\"AceitouCamapanha2\")) \n",
        "df.show()"
      ],
      "execution_count": null,
      "outputs": [
        {
          "output_type": "stream",
          "name": "stdout",
          "text": [
            "+----+-------------+-----------+------------+-------+-------------+-----------------+-------------+------------+----------+-----------+-------------------+------------------+------------------+------------------+-----------------+------------+-----------------+-------------+--------------+-----------------+-----------------+-----------------+-----------------+-----------------+-----------+--------+-----------------+\n",
            "|  ID|AnoNascimento|   Educacao| EstadoCivil|Receita|CriancaNaCasa|AdolescenteNaCasa|DataInscricao|UltimaCompra|TotalVinho|TotalFrutas|TotalProdutosCarnes|TotalProdutosPeixe|TotalProdutosDoces|TotaltProdutosOuro|QtComprasDesconto|QtComprasWeb|QtComprasCatalogo|QtComprasLoja|QtVistasWebMes|AceitouCamapanha3|AceitouCamapanha4|AceitouCamapanha5|AceitouCamapanha1|AceitouCamapanha2| Reclamacao|Resposta|QtCamapanhaAceita|\n",
            "+----+-------------+-----------+------------+-------+-------------+-----------------+-------------+------------+----------+-----------+-------------------+------------------+------------------+------------------+-----------------+------------+-----------------+-------------+--------------+-----------------+-----------------+-----------------+-----------------+-----------------+-----------+--------+-----------------+\n",
            "|5524|         1957|  Graduacao|    Solteiro|58138.0|            0|                0|   2012-04-09|          58|       635|         88|                546|               172|                88|                88|                3|           8|               10|            4|             7|                0|                0|                0|                0|                0|NaoReclamou| Aceitou|                0|\n",
            "|2174|         1954|  Graduacao|    Solteiro|46344.0|            1|                1|   2014-08-03|          38|        11|          1|                  6|                 2|                 1|                 6|                2|           1|                1|            2|             5|                0|                0|                0|                0|                0|NaoReclamou|Rejeitou|                0|\n",
            "|4141|         1965|  Graduacao|UniaoEstavel|71613.0|            0|                0|   2013-08-21|          26|       426|         49|                127|               111|                21|                42|                1|           8|                2|           10|             4|                0|                0|                0|                0|                0|NaoReclamou|Rejeitou|                0|\n",
            "|6182|         1984|  Graduacao|UniaoEstavel|26646.0|            1|                0|   2014-10-02|          26|        11|          4|                 20|                10|                 3|                 5|                2|           2|                0|            4|             6|                0|                0|                0|                0|                0|NaoReclamou|Rejeitou|                0|\n",
            "|5324|         1981|  Doutorado|      Casado|58293.0|            1|                0|   2014-01-19|          94|       173|         43|                118|                46|                27|                15|                5|           5|                3|            6|             5|                0|                0|                0|                0|                0|NaoReclamou|Rejeitou|                0|\n",
            "|7446|         1967|     Mestre|UniaoEstavel|62513.0|            0|                1|   2013-09-09|          16|       520|         42|                 98|                 0|                42|                14|                2|           6|                4|           10|             6|                0|                0|                0|                0|                0|NaoReclamou|Rejeitou|                0|\n",
            "| 965|         1971|  Graduacao|  Divorciado|55635.0|            0|                1|   2012-11-13|          34|       235|         65|                164|                50|                49|                27|                4|           7|                3|            7|             6|                0|                0|                0|                0|                0|NaoReclamou|Rejeitou|                0|\n",
            "|6177|         1985|  Doutorado|      Casado|33454.0|            1|                0|   2013-08-05|          32|        76|         10|                 56|                 3|                 1|                23|                2|           4|                0|            4|             8|                0|                0|                0|                0|                0|NaoReclamou|Rejeitou|                0|\n",
            "|4855|         1974|  Doutorado|UniaoEstavel|30351.0|            1|                0|   2013-06-06|          19|        14|          0|                 24|                 3|                 3|                 2|                1|           3|                0|            2|             9|                0|                0|                0|                0|                0|NaoReclamou| Aceitou|                0|\n",
            "|5899|         1950|  Doutorado|UniaoEstavel| 5648.0|            1|                1|   2014-03-13|          68|        28|          0|                  6|                 1|                 1|                13|                1|           1|                0|            0|            20|                1|                0|                0|                0|                0|NaoReclamou|Rejeitou|                1|\n",
            "|1994|         1983|  Graduacao|      Casado|   null|            1|                0|   2013-11-15|          11|         5|          5|                  6|                 0|                 2|                 1|                1|           1|                0|            2|             7|                0|                0|                0|                0|                0|NaoReclamou|Rejeitou|                0|\n",
            "| 387|         1976|  Mestrando|      Casado| 7500.0|            0|                0|   2012-11-13|          59|         6|         16|                 11|                11|                 1|                16|                1|           2|                0|            3|             8|                0|                0|                0|                0|                0|NaoReclamou|Rejeitou|                0|\n",
            "|2125|         1959|  Graduacao|  Divorciado|63033.0|            0|                0|   2013-11-15|          82|       194|         61|                480|               225|               112|                30|                1|           3|                4|            8|             2|                0|                0|                0|                0|                0|NaoReclamou|Rejeitou|                0|\n",
            "|8180|         1952|     Mestre|  Divorciado|59354.0|            1|                1|   2013-11-15|          53|       233|          2|                 53|                 3|                 5|                14|                3|           6|                1|            5|             6|                0|                0|                0|                0|                0|NaoReclamou|Rejeitou|                0|\n",
            "|2569|         1987|  Graduacao|      Casado|17323.0|            0|                0|   2012-10-10|          38|         3|         14|                 17|                 6|                 1|                 5|                1|           1|                0|            3|             8|                0|                0|                0|                0|                0|NaoReclamou|Rejeitou|                0|\n",
            "|2114|         1946|  Doutorado|    Solteiro|82800.0|            0|                0|   2012-11-24|          23|      1006|         22|                115|                59|                68|                45|                1|           7|                6|           12|             3|                0|                0|                1|                1|                0|NaoReclamou| Aceitou|                2|\n",
            "|9736|         1980|  Graduacao|      Casado|41850.0|            1|                1|   2012-12-24|          51|        53|          5|                 19|                 2|                13|                 4|                3|           3|                0|            3|             8|                0|                0|                0|                0|                0|NaoReclamou|Rejeitou|                0|\n",
            "|4939|         1946|  Graduacao|UniaoEstavel|37760.0|            0|                0|   2012-08-31|          20|        84|          5|                 38|               150|                12|                28|                2|           4|                1|            6|             7|                0|                0|                0|                0|                0|NaoReclamou|Rejeitou|                0|\n",
            "|6565|         1949|     Mestre|      Casado|76995.0|            0|                1|   2013-03-28|          91|      1012|         80|                498|                 0|                16|               176|                2|          11|                4|            9|             5|                0|                0|                0|                1|                0|NaoReclamou|Rejeitou|                1|\n",
            "|2278|         1985|EnsinoMedio|    Solteiro|33812.0|            1|                0|   2012-03-11|          86|         4|         17|                 19|                30|                24|                39|                2|           2|                1|            3|             6|                0|                0|                0|                0|                0|NaoReclamou|Rejeitou|                0|\n",
            "+----+-------------+-----------+------------+-------+-------------+-----------------+-------------+------------+----------+-----------+-------------------+------------------+------------------+------------------+-----------------+------------+-----------------+-------------+--------------+-----------------+-----------------+-----------------+-----------------+-----------------+-----------+--------+-----------------+\n",
            "only showing top 20 rows\n",
            "\n"
          ]
        }
      ]
    },
    {
      "cell_type": "markdown",
      "metadata": {
        "id": "iLB4s5bmeD34"
      },
      "source": [
        "Mostra o total de compras feitas nos diferentes meios por cada cliente"
      ]
    },
    {
      "cell_type": "code",
      "metadata": {
        "colab": {
          "base_uri": "https://localhost:8080/"
        },
        "id": "KLkyfjExMTMl",
        "outputId": "58fb99c9-ca14-48ec-99ed-19f341aa5c24"
      },
      "source": [
        "df = df.withColumn(\"TotalCompras\", F.col(\"QtComprasDesconto\") + F.col(\"QtComprasWeb\") + F.col(\"QtComprasCatalogo\") + F.col(\"QtComprasLoja\")) \n",
        "df.show()"
      ],
      "execution_count": null,
      "outputs": [
        {
          "output_type": "stream",
          "name": "stdout",
          "text": [
            "+----+-------------+-----------+------------+-------+-------------+-----------------+-------------+------------+----------+-----------+-------------------+------------------+------------------+------------------+-----------------+------------+-----------------+-------------+--------------+-----------------+-----------------+-----------------+-----------------+-----------------+-----------+--------+-----------------+------------+\n",
            "|  ID|AnoNascimento|   Educacao| EstadoCivil|Receita|CriancaNaCasa|AdolescenteNaCasa|DataInscricao|UltimaCompra|TotalVinho|TotalFrutas|TotalProdutosCarnes|TotalProdutosPeixe|TotalProdutosDoces|TotaltProdutosOuro|QtComprasDesconto|QtComprasWeb|QtComprasCatalogo|QtComprasLoja|QtVistasWebMes|AceitouCamapanha3|AceitouCamapanha4|AceitouCamapanha5|AceitouCamapanha1|AceitouCamapanha2| Reclamacao|Resposta|QtCamapanhaAceita|TotalCompras|\n",
            "+----+-------------+-----------+------------+-------+-------------+-----------------+-------------+------------+----------+-----------+-------------------+------------------+------------------+------------------+-----------------+------------+-----------------+-------------+--------------+-----------------+-----------------+-----------------+-----------------+-----------------+-----------+--------+-----------------+------------+\n",
            "|5524|         1957|  Graduacao|    Solteiro|58138.0|            0|                0|   2012-04-09|          58|       635|         88|                546|               172|                88|                88|                3|           8|               10|            4|             7|                0|                0|                0|                0|                0|NaoReclamou| Aceitou|                0|          25|\n",
            "|2174|         1954|  Graduacao|    Solteiro|46344.0|            1|                1|   2014-08-03|          38|        11|          1|                  6|                 2|                 1|                 6|                2|           1|                1|            2|             5|                0|                0|                0|                0|                0|NaoReclamou|Rejeitou|                0|           6|\n",
            "|4141|         1965|  Graduacao|UniaoEstavel|71613.0|            0|                0|   2013-08-21|          26|       426|         49|                127|               111|                21|                42|                1|           8|                2|           10|             4|                0|                0|                0|                0|                0|NaoReclamou|Rejeitou|                0|          21|\n",
            "|6182|         1984|  Graduacao|UniaoEstavel|26646.0|            1|                0|   2014-10-02|          26|        11|          4|                 20|                10|                 3|                 5|                2|           2|                0|            4|             6|                0|                0|                0|                0|                0|NaoReclamou|Rejeitou|                0|           8|\n",
            "|5324|         1981|  Doutorado|      Casado|58293.0|            1|                0|   2014-01-19|          94|       173|         43|                118|                46|                27|                15|                5|           5|                3|            6|             5|                0|                0|                0|                0|                0|NaoReclamou|Rejeitou|                0|          19|\n",
            "|7446|         1967|     Mestre|UniaoEstavel|62513.0|            0|                1|   2013-09-09|          16|       520|         42|                 98|                 0|                42|                14|                2|           6|                4|           10|             6|                0|                0|                0|                0|                0|NaoReclamou|Rejeitou|                0|          22|\n",
            "| 965|         1971|  Graduacao|  Divorciado|55635.0|            0|                1|   2012-11-13|          34|       235|         65|                164|                50|                49|                27|                4|           7|                3|            7|             6|                0|                0|                0|                0|                0|NaoReclamou|Rejeitou|                0|          21|\n",
            "|6177|         1985|  Doutorado|      Casado|33454.0|            1|                0|   2013-08-05|          32|        76|         10|                 56|                 3|                 1|                23|                2|           4|                0|            4|             8|                0|                0|                0|                0|                0|NaoReclamou|Rejeitou|                0|          10|\n",
            "|4855|         1974|  Doutorado|UniaoEstavel|30351.0|            1|                0|   2013-06-06|          19|        14|          0|                 24|                 3|                 3|                 2|                1|           3|                0|            2|             9|                0|                0|                0|                0|                0|NaoReclamou| Aceitou|                0|           6|\n",
            "|5899|         1950|  Doutorado|UniaoEstavel| 5648.0|            1|                1|   2014-03-13|          68|        28|          0|                  6|                 1|                 1|                13|                1|           1|                0|            0|            20|                1|                0|                0|                0|                0|NaoReclamou|Rejeitou|                1|           2|\n",
            "|1994|         1983|  Graduacao|      Casado|   null|            1|                0|   2013-11-15|          11|         5|          5|                  6|                 0|                 2|                 1|                1|           1|                0|            2|             7|                0|                0|                0|                0|                0|NaoReclamou|Rejeitou|                0|           4|\n",
            "| 387|         1976|  Mestrando|      Casado| 7500.0|            0|                0|   2012-11-13|          59|         6|         16|                 11|                11|                 1|                16|                1|           2|                0|            3|             8|                0|                0|                0|                0|                0|NaoReclamou|Rejeitou|                0|           6|\n",
            "|2125|         1959|  Graduacao|  Divorciado|63033.0|            0|                0|   2013-11-15|          82|       194|         61|                480|               225|               112|                30|                1|           3|                4|            8|             2|                0|                0|                0|                0|                0|NaoReclamou|Rejeitou|                0|          16|\n",
            "|8180|         1952|     Mestre|  Divorciado|59354.0|            1|                1|   2013-11-15|          53|       233|          2|                 53|                 3|                 5|                14|                3|           6|                1|            5|             6|                0|                0|                0|                0|                0|NaoReclamou|Rejeitou|                0|          15|\n",
            "|2569|         1987|  Graduacao|      Casado|17323.0|            0|                0|   2012-10-10|          38|         3|         14|                 17|                 6|                 1|                 5|                1|           1|                0|            3|             8|                0|                0|                0|                0|                0|NaoReclamou|Rejeitou|                0|           5|\n",
            "|2114|         1946|  Doutorado|    Solteiro|82800.0|            0|                0|   2012-11-24|          23|      1006|         22|                115|                59|                68|                45|                1|           7|                6|           12|             3|                0|                0|                1|                1|                0|NaoReclamou| Aceitou|                2|          26|\n",
            "|9736|         1980|  Graduacao|      Casado|41850.0|            1|                1|   2012-12-24|          51|        53|          5|                 19|                 2|                13|                 4|                3|           3|                0|            3|             8|                0|                0|                0|                0|                0|NaoReclamou|Rejeitou|                0|           9|\n",
            "|4939|         1946|  Graduacao|UniaoEstavel|37760.0|            0|                0|   2012-08-31|          20|        84|          5|                 38|               150|                12|                28|                2|           4|                1|            6|             7|                0|                0|                0|                0|                0|NaoReclamou|Rejeitou|                0|          13|\n",
            "|6565|         1949|     Mestre|      Casado|76995.0|            0|                1|   2013-03-28|          91|      1012|         80|                498|                 0|                16|               176|                2|          11|                4|            9|             5|                0|                0|                0|                1|                0|NaoReclamou|Rejeitou|                1|          26|\n",
            "|2278|         1985|EnsinoMedio|    Solteiro|33812.0|            1|                0|   2012-03-11|          86|         4|         17|                 19|                30|                24|                39|                2|           2|                1|            3|             6|                0|                0|                0|                0|                0|NaoReclamou|Rejeitou|                0|           8|\n",
            "+----+-------------+-----------+------------+-------+-------------+-----------------+-------------+------------+----------+-----------+-------------------+------------------+------------------+------------------+-----------------+------------+-----------------+-------------+--------------+-----------------+-----------------+-----------------+-----------------+-----------------+-----------+--------+-----------------+------------+\n",
            "only showing top 20 rows\n",
            "\n"
          ]
        }
      ]
    },
    {
      "cell_type": "markdown",
      "metadata": {
        "id": "kvCceCe8eLgw"
      },
      "source": [
        "\n",
        "\n",
        "---\n",
        "\n",
        "\n",
        "Mostra a quantidade de menores de idade que residem junto aos clientes"
      ]
    },
    {
      "cell_type": "code",
      "metadata": {
        "colab": {
          "base_uri": "https://localhost:8080/"
        },
        "id": "hzdSa2o-UbaF",
        "outputId": "6e578c4d-208a-4552-e6ab-b6272294631e"
      },
      "source": [
        "df = df.withColumn(\"MenorEmCasa\", F.col(\"CriancaNaCasa\") + F.col(\"AdolescenteNaCasa\")) \n",
        "df.show()"
      ],
      "execution_count": null,
      "outputs": [
        {
          "output_type": "stream",
          "name": "stdout",
          "text": [
            "+----+-------------+-----------+------------+-------+-------------+-----------------+-------------+------------+----------+-----------+-------------------+------------------+------------------+------------------+-----------------+------------+-----------------+-------------+--------------+-----------------+-----------------+-----------------+-----------------+-----------------+-----------+--------+-----------------+------------+-----------+\n",
            "|  ID|AnoNascimento|   Educacao| EstadoCivil|Receita|CriancaNaCasa|AdolescenteNaCasa|DataInscricao|UltimaCompra|TotalVinho|TotalFrutas|TotalProdutosCarnes|TotalProdutosPeixe|TotalProdutosDoces|TotaltProdutosOuro|QtComprasDesconto|QtComprasWeb|QtComprasCatalogo|QtComprasLoja|QtVistasWebMes|AceitouCamapanha3|AceitouCamapanha4|AceitouCamapanha5|AceitouCamapanha1|AceitouCamapanha2| Reclamacao|Resposta|QtCamapanhaAceita|TotalCompras|MenorEmCasa|\n",
            "+----+-------------+-----------+------------+-------+-------------+-----------------+-------------+------------+----------+-----------+-------------------+------------------+------------------+------------------+-----------------+------------+-----------------+-------------+--------------+-----------------+-----------------+-----------------+-----------------+-----------------+-----------+--------+-----------------+------------+-----------+\n",
            "|5524|         1957|  Graduacao|    Solteiro|58138.0|            0|                0|   2012-04-09|          58|       635|         88|                546|               172|                88|                88|                3|           8|               10|            4|             7|                0|                0|                0|                0|                0|NaoReclamou| Aceitou|                0|          25|          0|\n",
            "|2174|         1954|  Graduacao|    Solteiro|46344.0|            1|                1|   2014-08-03|          38|        11|          1|                  6|                 2|                 1|                 6|                2|           1|                1|            2|             5|                0|                0|                0|                0|                0|NaoReclamou|Rejeitou|                0|           6|          2|\n",
            "|4141|         1965|  Graduacao|UniaoEstavel|71613.0|            0|                0|   2013-08-21|          26|       426|         49|                127|               111|                21|                42|                1|           8|                2|           10|             4|                0|                0|                0|                0|                0|NaoReclamou|Rejeitou|                0|          21|          0|\n",
            "|6182|         1984|  Graduacao|UniaoEstavel|26646.0|            1|                0|   2014-10-02|          26|        11|          4|                 20|                10|                 3|                 5|                2|           2|                0|            4|             6|                0|                0|                0|                0|                0|NaoReclamou|Rejeitou|                0|           8|          1|\n",
            "|5324|         1981|  Doutorado|      Casado|58293.0|            1|                0|   2014-01-19|          94|       173|         43|                118|                46|                27|                15|                5|           5|                3|            6|             5|                0|                0|                0|                0|                0|NaoReclamou|Rejeitou|                0|          19|          1|\n",
            "|7446|         1967|     Mestre|UniaoEstavel|62513.0|            0|                1|   2013-09-09|          16|       520|         42|                 98|                 0|                42|                14|                2|           6|                4|           10|             6|                0|                0|                0|                0|                0|NaoReclamou|Rejeitou|                0|          22|          1|\n",
            "| 965|         1971|  Graduacao|  Divorciado|55635.0|            0|                1|   2012-11-13|          34|       235|         65|                164|                50|                49|                27|                4|           7|                3|            7|             6|                0|                0|                0|                0|                0|NaoReclamou|Rejeitou|                0|          21|          1|\n",
            "|6177|         1985|  Doutorado|      Casado|33454.0|            1|                0|   2013-08-05|          32|        76|         10|                 56|                 3|                 1|                23|                2|           4|                0|            4|             8|                0|                0|                0|                0|                0|NaoReclamou|Rejeitou|                0|          10|          1|\n",
            "|4855|         1974|  Doutorado|UniaoEstavel|30351.0|            1|                0|   2013-06-06|          19|        14|          0|                 24|                 3|                 3|                 2|                1|           3|                0|            2|             9|                0|                0|                0|                0|                0|NaoReclamou| Aceitou|                0|           6|          1|\n",
            "|5899|         1950|  Doutorado|UniaoEstavel| 5648.0|            1|                1|   2014-03-13|          68|        28|          0|                  6|                 1|                 1|                13|                1|           1|                0|            0|            20|                1|                0|                0|                0|                0|NaoReclamou|Rejeitou|                1|           2|          2|\n",
            "|1994|         1983|  Graduacao|      Casado|   null|            1|                0|   2013-11-15|          11|         5|          5|                  6|                 0|                 2|                 1|                1|           1|                0|            2|             7|                0|                0|                0|                0|                0|NaoReclamou|Rejeitou|                0|           4|          1|\n",
            "| 387|         1976|  Mestrando|      Casado| 7500.0|            0|                0|   2012-11-13|          59|         6|         16|                 11|                11|                 1|                16|                1|           2|                0|            3|             8|                0|                0|                0|                0|                0|NaoReclamou|Rejeitou|                0|           6|          0|\n",
            "|2125|         1959|  Graduacao|  Divorciado|63033.0|            0|                0|   2013-11-15|          82|       194|         61|                480|               225|               112|                30|                1|           3|                4|            8|             2|                0|                0|                0|                0|                0|NaoReclamou|Rejeitou|                0|          16|          0|\n",
            "|8180|         1952|     Mestre|  Divorciado|59354.0|            1|                1|   2013-11-15|          53|       233|          2|                 53|                 3|                 5|                14|                3|           6|                1|            5|             6|                0|                0|                0|                0|                0|NaoReclamou|Rejeitou|                0|          15|          2|\n",
            "|2569|         1987|  Graduacao|      Casado|17323.0|            0|                0|   2012-10-10|          38|         3|         14|                 17|                 6|                 1|                 5|                1|           1|                0|            3|             8|                0|                0|                0|                0|                0|NaoReclamou|Rejeitou|                0|           5|          0|\n",
            "|2114|         1946|  Doutorado|    Solteiro|82800.0|            0|                0|   2012-11-24|          23|      1006|         22|                115|                59|                68|                45|                1|           7|                6|           12|             3|                0|                0|                1|                1|                0|NaoReclamou| Aceitou|                2|          26|          0|\n",
            "|9736|         1980|  Graduacao|      Casado|41850.0|            1|                1|   2012-12-24|          51|        53|          5|                 19|                 2|                13|                 4|                3|           3|                0|            3|             8|                0|                0|                0|                0|                0|NaoReclamou|Rejeitou|                0|           9|          2|\n",
            "|4939|         1946|  Graduacao|UniaoEstavel|37760.0|            0|                0|   2012-08-31|          20|        84|          5|                 38|               150|                12|                28|                2|           4|                1|            6|             7|                0|                0|                0|                0|                0|NaoReclamou|Rejeitou|                0|          13|          0|\n",
            "|6565|         1949|     Mestre|      Casado|76995.0|            0|                1|   2013-03-28|          91|      1012|         80|                498|                 0|                16|               176|                2|          11|                4|            9|             5|                0|                0|                0|                1|                0|NaoReclamou|Rejeitou|                1|          26|          1|\n",
            "|2278|         1985|EnsinoMedio|    Solteiro|33812.0|            1|                0|   2012-03-11|          86|         4|         17|                 19|                30|                24|                39|                2|           2|                1|            3|             6|                0|                0|                0|                0|                0|NaoReclamou|Rejeitou|                0|           8|          1|\n",
            "+----+-------------+-----------+------------+-------+-------------+-----------------+-------------+------------+----------+-----------+-------------------+------------------+------------------+------------------+-----------------+------------+-----------------+-------------+--------------+-----------------+-----------------+-----------------+-----------------+-----------------+-----------+--------+-----------------+------------+-----------+\n",
            "only showing top 20 rows\n",
            "\n"
          ]
        }
      ]
    },
    {
      "cell_type": "markdown",
      "metadata": {
        "id": "Mry0BsZmQeL0"
      },
      "source": [
        "\n",
        "\n",
        "---\n",
        "Mostrar a Receita média separada pela escolaridade do consumidor\n"
      ]
    },
    {
      "cell_type": "code",
      "metadata": {
        "colab": {
          "base_uri": "https://localhost:8080/"
        },
        "id": "aUW4CWYsNUZy",
        "outputId": "d6ed9843-5869-45db-eab2-1d24c87e37f0"
      },
      "source": [
        "df.groupby(F.col(\"Educacao\")).agg(F.round(F.avg(\"Receita\"), 2).alias(\"ReceitaMedia\"), F.round(F.avg(\"TotalCompras\"), 2).alias(\"MediaDeCompras\")).show()"
      ],
      "execution_count": null,
      "outputs": [
        {
          "output_type": "stream",
          "name": "stdout",
          "text": [
            "+-----------+------------+--------------+\n",
            "|   Educacao|ReceitaMedia|MediaDeCompras|\n",
            "+-----------+------------+--------------+\n",
            "|  Doutorado|    56220.03|         15.84|\n",
            "|  Graduacao|    52713.21|         14.99|\n",
            "|     Mestre|    52859.73|          14.9|\n",
            "|  Mestrando|    20306.26|          7.02|\n",
            "|EnsinoMedio|    47633.19|          13.8|\n",
            "+-----------+------------+--------------+\n",
            "\n"
          ]
        }
      ]
    },
    {
      "cell_type": "markdown",
      "metadata": {
        "id": "k1bh0f9jX5jK"
      },
      "source": [
        "\n",
        "\n",
        "---\n",
        "\n",
        "\n",
        "Mostrar Informação dos clientes que tem menores de idade morando na mesma casa"
      ]
    },
    {
      "cell_type": "code",
      "metadata": {
        "colab": {
          "base_uri": "https://localhost:8080/"
        },
        "id": "TuAvIC_sOGD0",
        "outputId": "72eba205-ae8e-4800-c1aa-08d03fed23a5"
      },
      "source": [
        "df.groupBy(F.col(\"EstadoCivil\"), F.col(\"Educacao\")).agg(F.round(F.avg(\"Receita\"), 2).alias(\"ReceitaMedia\")).show()"
      ],
      "execution_count": null,
      "outputs": [
        {
          "output_type": "stream",
          "name": "stdout",
          "text": [
            "+------------+-----------+------------+\n",
            "| EstadoCivil|   Educacao|ReceitaMedia|\n",
            "+------------+-----------+------------+\n",
            "|    Solteiro|  Graduacao|    51322.18|\n",
            "|       Viuvo|  Doutorado|    60288.08|\n",
            "|UniaoEstavel|EnsinoMedio|    44736.41|\n",
            "|    Solteiro|  Mestrando|    18238.67|\n",
            "|    Solteiro|EnsinoMedio|    53673.94|\n",
            "|UniaoEstavel|  Doutorado|    56041.42|\n",
            "|       Viuvo|  Graduacao|    54976.66|\n",
            "|    Solteiro|  Doutorado|    53314.61|\n",
            "|       Viuvo|EnsinoMedio|     51392.2|\n",
            "|UniaoEstavel|  Graduacao|    55758.48|\n",
            "|       Viuvo|  Mestrando|     22123.0|\n",
            "|UniaoEstavel|     Mestre|    52109.01|\n",
            "|      Casado|EnsinoMedio|     46201.1|\n",
            "|      Casado|  Mestrando|     21960.5|\n",
            "|      Casado|  Doutorado|    58138.03|\n",
            "|    Solteiro|     Mestre|    53530.56|\n",
            "|  Divorciado|     Mestre|    50331.95|\n",
            "|  Divorciado|  Mestrando|      9548.0|\n",
            "|  Divorciado|  Doutorado|    53096.62|\n",
            "|  Divorciado|EnsinoMedio|    49395.13|\n",
            "+------------+-----------+------------+\n",
            "only showing top 20 rows\n",
            "\n"
          ]
        }
      ]
    },
    {
      "cell_type": "markdown",
      "metadata": {
        "id": "lH1kO-G_e6SA"
      },
      "source": [
        "\n",
        "\n",
        "---\n",
        "\n",
        "\n",
        "Mostra os casos de pessoas casadas com menores morando em sua casa\n"
      ]
    },
    {
      "cell_type": "code",
      "metadata": {
        "colab": {
          "base_uri": "https://localhost:8080/"
        },
        "id": "-uZ_bwz1W4Rw",
        "outputId": "7e89f9d4-b4b3-4cff-f692-5a09618488c3"
      },
      "source": [
        "df.filter(F.col(\"MenorEmCasa\") > 0).orderBy(F.col(\"EstadoCivil\")).show()\n"
      ],
      "execution_count": null,
      "outputs": [
        {
          "output_type": "stream",
          "name": "stdout",
          "text": [
            "+-----+-------------+-----------+-----------+-------+-------------+-----------------+-------------+------------+----------+-----------+-------------------+------------------+------------------+------------------+-----------------+------------+-----------------+-------------+--------------+-----------------+-----------------+-----------------+-----------------+-----------------+-----------+--------+-----------------+------------+-----------+\n",
            "|   ID|AnoNascimento|   Educacao|EstadoCivil|Receita|CriancaNaCasa|AdolescenteNaCasa|DataInscricao|UltimaCompra|TotalVinho|TotalFrutas|TotalProdutosCarnes|TotalProdutosPeixe|TotalProdutosDoces|TotaltProdutosOuro|QtComprasDesconto|QtComprasWeb|QtComprasCatalogo|QtComprasLoja|QtVistasWebMes|AceitouCamapanha3|AceitouCamapanha4|AceitouCamapanha5|AceitouCamapanha1|AceitouCamapanha2| Reclamacao|Resposta|QtCamapanhaAceita|TotalCompras|MenorEmCasa|\n",
            "+-----+-------------+-----------+-----------+-------+-------------+-----------------+-------------+------------+----------+-----------+-------------------+------------------+------------------+------------------+-----------------+------------+-----------------+-------------+--------------+-----------------+-----------------+-----------------+-----------------+-----------------+-----------+--------+-----------------+------------+-----------+\n",
            "|10755|         1976|EnsinoMedio|     Casado|23718.0|            1|                0|   2013-02-09|          76|         6|          3|                 14|                15|                 7|                36|                3|           3|                1|            2|             7|                0|                0|                0|                0|                0|NaoReclamou|Rejeitou|                0|           9|          1|\n",
            "| 8132|         1975|  Doutorado|     Casado|60631.0|            1|                1|   2013-05-04|          88|       565|          6|                 65|                 0|                 6|                19|                5|           9|                2|            8|             7|                0|                1|                0|                0|                0|NaoReclamou|Rejeitou|                1|          24|          2|\n",
            "| 8601|         1980|  Graduacao|     Casado|80011.0|            0|                1|   2013-04-29|           3|       421|         76|                536|                82|               178|               102|                2|           8|                6|            5|             4|                0|                0|                0|                0|                0|NaoReclamou|Rejeitou|                0|          21|          1|\n",
            "| 6177|         1985|  Doutorado|     Casado|33454.0|            1|                0|   2013-08-05|          32|        76|         10|                 56|                 3|                 1|                23|                2|           4|                0|            4|             8|                0|                0|                0|                0|                0|NaoReclamou|Rejeitou|                0|          10|          1|\n",
            "|  503|         1985|     Mestre|     Casado|20559.0|            1|                0|   2013-12-03|          88|        13|          1|                 29|                 3|                 0|                 7|                2|           2|                0|            3|             8|                0|                0|                0|                0|                0|NaoReclamou|Rejeitou|                0|           7|          1|\n",
            "| 9736|         1980|  Graduacao|     Casado|41850.0|            1|                1|   2012-12-24|          51|        53|          5|                 19|                 2|                13|                 4|                3|           3|                0|            3|             8|                0|                0|                0|                0|                0|NaoReclamou|Rejeitou|                0|           9|          2|\n",
            "| 2139|         1975|     Mestre|     Casado| 7500.0|            1|                0|   2013-02-10|          19|         3|          1|                 10|                 3|                 2|                12|                3|           2|                0|            3|             5|                0|                0|                0|                0|                0|NaoReclamou|Rejeitou|                0|           8|          1|\n",
            "| 5376|         1979|  Graduacao|     Casado| 2447.0|            1|                0|   2013-06-01|          42|         1|          1|               1725|                 1|                 1|                 1|               15|           0|               28|            0|             1|                0|                0|                0|                0|                0|NaoReclamou|Rejeitou|                0|          43|          1|\n",
            "| 6566|         1954|  Doutorado|     Casado|72550.0|            1|                1|   2012-08-11|          39|       826|         50|                317|                50|                38|                38|                9|           5|                2|           12|             8|                0|                0|                0|                0|                0|NaoReclamou|Rejeitou|                0|          28|          2|\n",
            "| 4047|         1954|  Doutorado|     Casado|65324.0|            0|                1|   2014-11-01|           0|       384|          0|                102|                21|                32|                 5|                3|           6|                2|            9|             4|                0|                0|                0|                0|                0|NaoReclamou|Rejeitou|                0|          20|          1|\n",
            "| 9381|         1978|  Graduacao|     Casado|66373.0|            1|                1|   2013-12-06|          57|       328|          9|                124|                12|                24|               109|                7|           4|                2|           10|             3|                0|                0|                0|                0|                0|NaoReclamou|Rejeitou|                0|          23|          2|\n",
            "| 9422|         1989|  Graduacao|     Casado|38360.0|            1|                0|   2013-05-31|          26|        36|          2|                 42|                20|                21|                10|                2|           2|                1|            4|             3|                0|                0|                0|                0|                0|NaoReclamou|Rejeitou|                0|           9|          1|\n",
            "| 8375|         1968|  Doutorado|     Casado|55954.0|            0|                1|   2014-03-03|          63|       447|          0|                 28|                 0|                 0|                43|                3|           8|                2|            6|             7|                0|                0|                0|                0|                0|NaoReclamou|Rejeitou|                0|          19|          1|\n",
            "| 5324|         1981|  Doutorado|     Casado|58293.0|            1|                0|   2014-01-19|          94|       173|         43|                118|                46|                27|                15|                5|           5|                3|            6|             5|                0|                0|                0|                0|                0|NaoReclamou|Rejeitou|                0|          19|          1|\n",
            "| 8082|         1971|  Graduacao|     Casado|25721.0|            1|                0|   2013-05-21|          75|         1|          3|                  6|                 3|                 6|                15|                1|           1|                1|            2|             7|                0|                0|                0|                0|                0|NaoReclamou| Aceitou|                0|           5|          1|\n",
            "| 6565|         1949|     Mestre|     Casado|76995.0|            0|                1|   2013-03-28|          91|      1012|         80|                498|                 0|                16|               176|                2|          11|                4|            9|             5|                0|                0|                0|                1|                0|NaoReclamou|Rejeitou|                1|          26|          1|\n",
            "|10629|         1973|EnsinoMedio|     Casado|   null|            1|                0|   2012-09-14|          25|        25|          3|                 43|                17|                 4|                17|                3|           3|                0|            3|             8|                0|                0|                0|                0|                0|NaoReclamou|Rejeitou|                0|           9|          1|\n",
            "| 2404|         1976|  Graduacao|     Casado|53359.0|            1|                1|   2013-05-27|           4|       173|          4|                 30|                 3|                 6|                41|                4|           5|                1|            4|             7|                0|                0|                0|                0|                0|NaoReclamou|Rejeitou|                0|          14|          2|\n",
            "| 6312|         1959|  Graduacao|     Casado|65031.0|            0|                1|   2013-03-17|          29|       258|        107|                291|                84|                37|                86|                4|          10|                3|           13|             7|                0|                0|                0|                0|                0|NaoReclamou|Rejeitou|                0|          30|          1|\n",
            "| 1994|         1983|  Graduacao|     Casado|   null|            1|                0|   2013-11-15|          11|         5|          5|                  6|                 0|                 2|                 1|                1|           1|                0|            2|             7|                0|                0|                0|                0|                0|NaoReclamou|Rejeitou|                0|           4|          1|\n",
            "+-----+-------------+-----------+-----------+-------+-------------+-----------------+-------------+------------+----------+-----------+-------------------+------------------+------------------+------------------+-----------------+------------+-----------------+-------------+--------------+-----------------+-----------------+-----------------+-----------------+-----------------+-----------+--------+-----------------+------------+-----------+\n",
            "only showing top 20 rows\n",
            "\n"
          ]
        }
      ]
    },
    {
      "cell_type": "markdown",
      "metadata": {
        "id": "9TlaOIYuevL4"
      },
      "source": [
        "---\n",
        "\n",
        "Mostrar as pessoas casadas com receita anual de menos de 40000"
      ]
    },
    {
      "cell_type": "code",
      "metadata": {
        "colab": {
          "base_uri": "https://localhost:8080/"
        },
        "id": "iFeA42LweAkT",
        "outputId": "a3afb889-fb9e-4a4b-fa69-e06690d6a14a"
      },
      "source": [
        "df.filter(F.col(\"EstadoCivil\") == 'Casado').filter(F.col(\"Receita\") < 40000.00).show()"
      ],
      "execution_count": null,
      "outputs": [
        {
          "output_type": "stream",
          "name": "stdout",
          "text": [
            "+-----+-------------+-----------+-----------+-------+-------------+-----------------+-------------+------------+----------+-----------+-------------------+------------------+------------------+------------------+-----------------+------------+-----------------+-------------+--------------+-----------------+-----------------+-----------------+-----------------+-----------------+-----------+--------+-----------------+------------+-----------+\n",
            "|   ID|AnoNascimento|   Educacao|EstadoCivil|Receita|CriancaNaCasa|AdolescenteNaCasa|DataInscricao|UltimaCompra|TotalVinho|TotalFrutas|TotalProdutosCarnes|TotalProdutosPeixe|TotalProdutosDoces|TotaltProdutosOuro|QtComprasDesconto|QtComprasWeb|QtComprasCatalogo|QtComprasLoja|QtVistasWebMes|AceitouCamapanha3|AceitouCamapanha4|AceitouCamapanha5|AceitouCamapanha1|AceitouCamapanha2| Reclamacao|Resposta|QtCamapanhaAceita|TotalCompras|MenorEmCasa|\n",
            "+-----+-------------+-----------+-----------+-------+-------------+-----------------+-------------+------------+----------+-----------+-------------------+------------------+------------------+------------------+-----------------+------------+-----------------+-------------+--------------+-----------------+-----------------+-----------------+-----------------+-----------------+-----------+--------+-----------------+------------+-----------+\n",
            "| 6177|         1985|  Doutorado|     Casado|33454.0|            1|                0|   2013-08-05|          32|        76|         10|                 56|                 3|                 1|                23|                2|           4|                0|            4|             8|                0|                0|                0|                0|                0|NaoReclamou|Rejeitou|                0|          10|          1|\n",
            "|  387|         1976|  Mestrando|     Casado| 7500.0|            0|                0|   2012-11-13|          59|         6|         16|                 11|                11|                 1|                16|                1|           2|                0|            3|             8|                0|                0|                0|                0|                0|NaoReclamou|Rejeitou|                0|           6|          0|\n",
            "| 2569|         1987|  Graduacao|     Casado|17323.0|            0|                0|   2012-10-10|          38|         3|         14|                 17|                 6|                 1|                 5|                1|           1|                0|            3|             8|                0|                0|                0|                0|                0|NaoReclamou|Rejeitou|                0|           5|          0|\n",
            "| 9360|         1982|  Graduacao|     Casado|37040.0|            0|                0|   2012-08-08|          41|        86|          2|                 73|                69|                38|                48|                1|           4|                2|            5|             8|                0|                0|                0|                0|                0|NaoReclamou|Rejeitou|                0|          12|          0|\n",
            "| 5376|         1979|  Graduacao|     Casado| 2447.0|            1|                0|   2013-06-01|          42|         1|          1|               1725|                 1|                 1|                 1|               15|           0|               28|            0|             1|                0|                0|                0|                0|                0|NaoReclamou|Rejeitou|                0|          43|          1|\n",
            "| 9422|         1989|  Graduacao|     Casado|38360.0|            1|                0|   2013-05-31|          26|        36|          2|                 42|                20|                21|                10|                2|           2|                1|            4|             3|                0|                0|                0|                0|                0|NaoReclamou|Rejeitou|                0|           9|          1|\n",
            "|10755|         1976|EnsinoMedio|     Casado|23718.0|            1|                0|   2013-02-09|          76|         6|          3|                 14|                15|                 7|                36|                3|           3|                1|            2|             7|                0|                0|                0|                0|                0|NaoReclamou|Rejeitou|                0|           9|          1|\n",
            "|  503|         1985|     Mestre|     Casado|20559.0|            1|                0|   2013-12-03|          88|        13|          1|                 29|                 3|                 0|                 7|                2|           2|                0|            3|             8|                0|                0|                0|                0|                0|NaoReclamou|Rejeitou|                0|           7|          1|\n",
            "| 2139|         1975|     Mestre|     Casado| 7500.0|            1|                0|   2013-02-10|          19|         3|          1|                 10|                 3|                 2|                12|                3|           2|                0|            3|             5|                0|                0|                0|                0|                0|NaoReclamou|Rejeitou|                0|           8|          1|\n",
            "| 9909|         1996|EnsinoMedio|     Casado| 7500.0|            0|                0|   2012-09-11|          24|         3|         18|                 14|                15|                22|                50|                3|           3|                1|            3|             9|                0|                0|                0|                0|                0|NaoReclamou| Aceitou|                0|          10|          0|\n",
            "| 8082|         1971|  Graduacao|     Casado|25721.0|            1|                0|   2013-05-21|          75|         1|          3|                  6|                 3|                 6|                15|                1|           1|                1|            2|             7|                0|                0|                0|                0|                0|NaoReclamou| Aceitou|                0|           5|          1|\n",
            "| 1050|         1952|  Graduacao|     Casado|28332.0|            0|                0|   2014-04-30|          58|        14|         10|                 13|                 4|                15|                 9|                1|           2|                1|            4|             2|                0|                0|                0|                0|                0|NaoReclamou|Rejeitou|                0|           8|          0|\n",
            "| 2261|         1969|  Graduacao|     Casado|26304.0|            1|                0|   2013-06-23|           5|         4|          1|                  5|                 2|                 0|                 4|                1|           1|                0|            2|             7|                0|                0|                0|                0|                0|NaoReclamou|Rejeitou|                0|           4|          1|\n",
            "| 5346|         1973|EnsinoMedio|     Casado|23559.0|            1|                0|   2013-03-07|          87|        25|          5|                 19|                 7|                 0|                23|                3|           3|                0|            3|             7|                0|                0|                0|                0|                0|NaoReclamou|Rejeitou|                0|           9|          1|\n",
            "| 5268|         1960|  Graduacao|     Casado|29440.0|            1|                1|   2013-11-08|          95|        17|          8|                 14|                10|                 4|                 3|                2|           1|                0|            4|             7|                0|                0|                0|                0|                0|NaoReclamou|Rejeitou|                0|           7|          2|\n",
            "|  273|         1970|     Mestre|     Casado|36138.0|            1|                1|   2013-07-16|          48|       130|          0|                 16|                 0|                 0|                 5|                5|           3|                1|            4|             7|                0|                1|                0|                0|                0|NaoReclamou|Rejeitou|                1|          13|          2|\n",
            "| 2230|         1970|  Doutorado|     Casado|23626.0|            1|                0|   2014-05-24|          84|        27|          2|                 14|                 0|                 0|                 0|                3|           3|                1|            3|             5|                0|                0|                0|                0|                0|NaoReclamou|Rejeitou|                0|          10|          1|\n",
            "| 7516|         1983|  Graduacao|     Casado|30096.0|            1|                0|   2014-05-22|          30|         5|          3|                 11|                12|                 5|                 9|                1|           2|                0|            3|             6|                0|                0|                0|                0|                0|NaoReclamou|Rejeitou|                0|           6|          1|\n",
            "|  367|         1978|EnsinoMedio|     Casado|36550.0|            1|                0|   2013-02-19|          74|        47|         90|                 94|               123|               103|               120|                5|           9|                1|            5|             9|                0|                0|                0|                0|                0|NaoReclamou|Rejeitou|                0|          20|          1|\n",
            "| 8442|         1985|     Mestre|     Casado|19510.0|            2|                0|   2013-04-09|          63|         9|          0|                  7|                 3|                 4|                 7|                2|           1|                0|            3|             7|                0|                0|                0|                0|                0|NaoReclamou|Rejeitou|                0|           6|          2|\n",
            "+-----+-------------+-----------+-----------+-------+-------------+-----------------+-------------+------------+----------+-----------+-------------------+------------------+------------------+------------------+-----------------+------------+-----------------+-------------+--------------+-----------------+-----------------+-----------------+-----------------+-----------------+-----------+--------+-----------------+------------+-----------+\n",
            "only showing top 20 rows\n",
            "\n"
          ]
        }
      ]
    },
    {
      "cell_type": "markdown",
      "metadata": {
        "id": "dyA_IzEDenT2"
      },
      "source": [
        "\n",
        "\n",
        "---\n",
        "Mostra  ranking percentual da relação entre Total de Compras e a Receita do usuário\n"
      ]
    },
    {
      "cell_type": "code",
      "metadata": {
        "id": "qTBY2NkVz6Gp"
      },
      "source": [
        "w0 = Window.partitionBy(F.col('TotalCompras')).orderBy('Receita')"
      ],
      "execution_count": null,
      "outputs": []
    },
    {
      "cell_type": "code",
      "metadata": {
        "colab": {
          "base_uri": "https://localhost:8080/"
        },
        "id": "aWmJ_BPzyhfR",
        "outputId": "fb35bcf0-99a0-4cca-8673-470f2c080bfd"
      },
      "source": [
        "df.withColumn('percent_rank',F.percent_rank().over(w0)).show()"
      ],
      "execution_count": null,
      "outputs": [
        {
          "output_type": "stream",
          "name": "stdout",
          "text": [
            "+-----+-------------+-----------+------------+--------+-------------+-----------------+-------------+------------+----------+-----------+-------------------+------------------+------------------+------------------+-----------------+------------+-----------------+-------------+--------------+-----------------+-----------------+-----------------+-----------------+-----------------+-----------+--------+-----------------+------------+-----------+--------------------+\n",
            "|   ID|AnoNascimento|   Educacao| EstadoCivil| Receita|CriancaNaCasa|AdolescenteNaCasa|DataInscricao|UltimaCompra|TotalVinho|TotalFrutas|TotalProdutosCarnes|TotalProdutosPeixe|TotalProdutosDoces|TotaltProdutosOuro|QtComprasDesconto|QtComprasWeb|QtComprasCatalogo|QtComprasLoja|QtVistasWebMes|AceitouCamapanha3|AceitouCamapanha4|AceitouCamapanha5|AceitouCamapanha1|AceitouCamapanha2| Reclamacao|Resposta|QtCamapanhaAceita|TotalCompras|MenorEmCasa|        percent_rank|\n",
            "+-----+-------------+-----------+------------+--------+-------------+-----------------+-------------+------------+----------+-----------+-------------------+------------------+------------------+------------------+-----------------+------------+-----------------+-------------+--------------+-----------------+-----------------+-----------------+-----------------+-----------------+-----------+--------+-----------------+------------+-----------+--------------------+\n",
            "|11110|         1973|  Graduacao|    Solteiro|  3502.0|            1|                0|   2013-04-13|          56|         2|          1|                  1|                 0|                 0|                 1|                0|           0|                0|            0|            14|                0|                0|                0|                0|                0|NaoReclamou|Rejeitou|                0|           0|          1|                 0.0|\n",
            "| 3955|         1965|  Graduacao|  Divorciado|  4861.0|            0|                0|   2014-06-22|          20|         2|          1|                  1|                 1|                 0|                 1|                0|           0|                0|            0|            14|                0|                0|                0|                0|                0|NaoReclamou|Rejeitou|                0|           0|          0|  0.3333333333333333|\n",
            "| 5555|         1975|  Graduacao|  Divorciado|153924.0|            0|                0|   2014-07-02|          81|         1|          1|                  1|                 1|                 1|                 1|                0|           0|                0|            0|             0|                0|                0|                0|                0|                0|NaoReclamou|Rejeitou|                0|           0|          0|  0.6666666666666666|\n",
            "|11181|         1949|  Doutorado|      Casado|156924.0|            0|                0|   2013-08-29|          85|         2|          1|                  2|                 1|                 1|                 1|                0|           0|                0|            0|             0|                0|                0|                0|                0|                0|NaoReclamou|Rejeitou|                0|           0|          0|                 1.0|\n",
            "| 8720|         1978|EnsinoMedio|UniaoEstavel|    null|            0|                0|   2012-12-08|          53|        32|          2|               1607|                12|                 4|                22|                0|           0|                0|            1|             0|                0|                1|                0|                0|                0|NaoReclamou|Rejeitou|                1|           1|          0|                 0.0|\n",
            "| 9303|         1976|  Graduacao|      Casado|  5305.0|            0|                1|   2013-07-30|          12|        12|          4|                  7|                 1|                 3|                 5|                0|           1|                0|            0|            13|                0|                0|                0|                0|                0|NaoReclamou|Rejeitou|                0|           1|          1|  0.3333333333333333|\n",
            "| 4303|         1957|  Doutorado|UniaoEstavel|  6835.0|            0|                1|   2012-08-12|          76|       107|          2|                 12|                 2|                 2|                12|                0|           0|                0|            1|            20|                0|                0|                0|                0|                0|NaoReclamou|Rejeitou|                0|           1|          1|  0.6666666666666666|\n",
            "| 1503|         1976|  Doutorado|UniaoEstavel|162397.0|            1|                1|   2013-03-06|          31|        85|          1|                 16|                 2|                 1|                 2|                0|           0|                0|            1|             1|                0|                0|                0|                0|                0|NaoReclamou|Rejeitou|                0|           1|          2|                 1.0|\n",
            "| 5899|         1950|  Doutorado|UniaoEstavel|  5648.0|            1|                1|   2014-03-13|          68|        28|          0|                  6|                 1|                 1|                13|                1|           1|                0|            0|            20|                1|                0|                0|                0|                0|NaoReclamou|Rejeitou|                1|           2|          2|                 0.0|\n",
            "| 4246|         1982|     Mestre|    Solteiro|  6560.0|            0|                0|   2013-12-12|           2|        67|         11|                 26|                 4|                 3|               262|                0|           1|                0|            1|            17|                0|                0|                0|                0|                0|NaoReclamou|Rejeitou|                0|           2|          0|                 0.5|\n",
            "| 5336|         1971|     Mestre|UniaoEstavel|157733.0|            1|                0|   2013-04-06|          37|        39|          1|                  9|                 2|                 0|                 8|                0|           1|                0|            1|             1|                0|                0|                0|                0|                0|NaoReclamou|Rejeitou|                0|           2|          1|                 1.0|\n",
            "| 1994|         1983|  Graduacao|      Casado|    null|            1|                0|   2013-11-15|          11|         5|          5|                  6|                 0|                 2|                 1|                1|           1|                0|            2|             7|                0|                0|                0|                0|                0|NaoReclamou|Rejeitou|                0|           4|          1|                 0.0|\n",
            "| 9235|         1957|  Graduacao|    Solteiro|    null|            1|                1|   2014-05-27|          45|         7|          0|                  8|                 2|                 0|                 1|                1|           1|                0|            2|             7|                0|                0|                0|                0|                0|NaoReclamou|Rejeitou|                0|           4|          2|                 0.0|\n",
            "| 4345|         1964|EnsinoMedio|    Solteiro|    null|            1|                1|   2014-12-01|          49|         5|          1|                  9|                 2|                 0|                 4|                1|           1|                0|            2|             7|                0|                0|                0|                0|                0|NaoReclamou|Rejeitou|                0|           4|          2|                 0.0|\n",
            "| 9553|         1987|  Graduacao|      Casado|  7500.0|            0|                0|   2013-09-01|          94|         0|          2|                  3|                 4|                 1|                 5|                1|           0|                0|            3|             6|                0|                0|                0|                0|                0|NaoReclamou|Rejeitou|                0|           4|          0|0.023622047244094488|\n",
            "|10710|         1979|  Graduacao|      Casado|  7500.0|            0|                1|   2012-08-29|          61|         5|          2|                  3|                 3|                 0|                 5|                1|           1|                0|            2|             8|                0|                0|                0|                0|                0|NaoReclamou|Rejeitou|                0|           4|          1|0.023622047244094488|\n",
            "|10241|         1975|EnsinoMedio|  Divorciado| 11448.0|            0|                0|   2013-12-15|          16|         0|          0|                  0|                 6|                 2|                 6|                1|           1|                0|            2|             6|                0|                0|                0|                0|                0|NaoReclamou|Rejeitou|                0|           4|          0| 0.03937007874015748|\n",
            "|  193|         1996|  Mestrando|      Casado| 14421.0|            0|                0|   2014-02-17|          81|         0|          0|                  2|                 3|                 3|                 8|                1|           1|                0|            2|             5|                1|                0|                0|                0|                0|NaoReclamou|Rejeitou|                1|           4|          0|0.047244094488188976|\n",
            "| 4808|         1956|  Graduacao|      Casado| 15759.0|            0|                0|   2013-05-09|          12|         1|          2|                  5|                 6|                 0|                 3|                1|           1|                0|            2|             7|                0|                0|                0|                0|                0|NaoReclamou|Rejeitou|                0|           4|          0| 0.05511811023622047|\n",
            "| 8977|         1985|  Mestrando|    Solteiro| 16581.0|            0|                0|   2013-12-01|          51|         1|          3|                  4|                 2|                 3|                11|                1|           0|                0|            3|             4|                0|                0|                0|                0|                0|NaoReclamou|Rejeitou|                0|           4|          0| 0.06299212598425197|\n",
            "+-----+-------------+-----------+------------+--------+-------------+-----------------+-------------+------------+----------+-----------+-------------------+------------------+------------------+------------------+-----------------+------------+-----------------+-------------+--------------+-----------------+-----------------+-----------------+-----------------+-----------------+-----------+--------+-----------------+------------+-----------+--------------------+\n",
            "only showing top 20 rows\n",
            "\n"
          ]
        }
      ]
    },
    {
      "cell_type": "markdown",
      "metadata": {
        "id": "w6gogFJjimVA"
      },
      "source": [
        ""
      ]
    },
    {
      "cell_type": "markdown",
      "metadata": {
        "id": "neY-pSnWi0ly"
      },
      "source": [
        "\n",
        "\n",
        "---\n",
        "\n",
        "Mostrar a relação de nível educacional com o total de compras realizadas"
      ]
    },
    {
      "cell_type": "code",
      "metadata": {
        "id": "psWI_BtK0mql"
      },
      "source": [
        "w1 = Window.partitionBy(F.col(\"Educacao\")).orderBy(\"TotalCompras\")"
      ],
      "execution_count": null,
      "outputs": []
    },
    {
      "cell_type": "code",
      "metadata": {
        "colab": {
          "base_uri": "https://localhost:8080/"
        },
        "id": "lkLI9G0e0lV1",
        "outputId": "1ad0d3fb-be7e-4a74-f32a-37ad773d48e5"
      },
      "source": [
        "df.withColumn(\"Ranking_Compras\", F.row_number().over(w1)).select(\"Educacao\", \"TotalCompras\", \"Ranking_Compras\").show()"
      ],
      "execution_count": null,
      "outputs": [
        {
          "output_type": "stream",
          "name": "stdout",
          "text": [
            "+---------+------------+---------------+\n",
            "| Educacao|TotalCompras|Ranking_Compras|\n",
            "+---------+------------+---------------+\n",
            "|Doutorado|           0|              1|\n",
            "|Doutorado|           1|              2|\n",
            "|Doutorado|           1|              3|\n",
            "|Doutorado|           2|              4|\n",
            "|Doutorado|           4|              5|\n",
            "|Doutorado|           4|              6|\n",
            "|Doutorado|           4|              7|\n",
            "|Doutorado|           4|              8|\n",
            "|Doutorado|           4|              9|\n",
            "|Doutorado|           4|             10|\n",
            "|Doutorado|           4|             11|\n",
            "|Doutorado|           4|             12|\n",
            "|Doutorado|           4|             13|\n",
            "|Doutorado|           4|             14|\n",
            "|Doutorado|           4|             15|\n",
            "|Doutorado|           4|             16|\n",
            "|Doutorado|           4|             17|\n",
            "|Doutorado|           4|             18|\n",
            "|Doutorado|           4|             19|\n",
            "|Doutorado|           4|             20|\n",
            "+---------+------------+---------------+\n",
            "only showing top 20 rows\n",
            "\n"
          ]
        }
      ]
    },
    {
      "cell_type": "code",
      "metadata": {
        "id": "mHLjsTYueewo"
      },
      "source": [
        "df.write.format(\"com.databricks.spark.csv\").option(\"header\", \"true\").option(\"inferschema\", \"true\")\\\n",
        "    .option(\"delimiter\", \",\").save(\"/content/drive/MyDrive/Colab Notebooks/pre-projeto-analise de dados/marketing_campaign_pySpark\")"
      ],
      "execution_count": null,
      "outputs": []
    }
  ]
}